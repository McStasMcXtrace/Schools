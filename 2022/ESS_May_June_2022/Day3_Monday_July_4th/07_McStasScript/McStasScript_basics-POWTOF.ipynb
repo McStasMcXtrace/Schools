{
 "cells": [
  {
   "cell_type": "markdown",
   "id": "controlled-hormone",
   "metadata": {},
   "source": [
    "# ESS  McStas School day 3\n",
    "Two exciting topics that I have spent many years developing:\n",
    "- McStasScript\n",
    "- Union components\n",
    "\n",
    "Before we start, please get the new docker image with updates, version 2.1. We will need this version for the exercises!\n",
    "\n",
    "```\n",
    "docker run -p 8888:8888 docker.io/mccode/mcstas-2.7.1-3.1-scipp:2.1\n",
    "```\n"
   ]
  },
  {
   "cell_type": "markdown",
   "id": "separated-murder",
   "metadata": {
    "slideshow": {
     "slide_type": "slide"
    }
   },
   "source": [
    "# McStasScript\n",
    "McStasScript allows writing and running McStas simulations directly from python.\n",
    "\n",
    "Written by Mads Bertelsen while working at ESS DMSC.\n",
    "\n",
    "Funded by PaNOSC and a part of PaNOSC work package 5.\n",
    "\n",
    "### Installation\n",
    "McStasScript is open source and available here: https://github.com/PaNOSC-ViNYL/McStasScript\n",
    "\n",
    "Easy to install, install McStas as normal and then McStasScript can be installed with:\n",
    "```\n",
    "pip install McStasScript --upgrade\n",
    "```"
   ]
  },
  {
   "cell_type": "markdown",
   "id": "excess-radio",
   "metadata": {
    "slideshow": {
     "slide_type": "slide"
    }
   },
   "source": [
    "![normal](figures/Slide1.png)"
   ]
  },
  {
   "cell_type": "markdown",
   "id": "specialized-exclusion",
   "metadata": {
    "slideshow": {
     "slide_type": "slide"
    }
   },
   "source": [
    "![McStasScript](figures/Slide2.png)"
   ]
  },
  {
   "cell_type": "markdown",
   "id": "therapeutic-active",
   "metadata": {
    "slideshow": {
     "slide_type": "slide"
    }
   },
   "source": [
    "# Live demo of McStasScript\n",
    "Here we will set up an instrument simulation together and execute it from the slides!\n",
    "First we import the package."
   ]
  },
  {
   "cell_type": "code",
   "execution_count": 1,
   "id": "organizational-comedy",
   "metadata": {
    "slideshow": {
     "slide_type": "-"
    }
   },
   "outputs": [],
   "source": [
    "import mcstasscript as ms"
   ]
  },
  {
   "cell_type": "markdown",
   "id": "chemical-application",
   "metadata": {
    "slideshow": {
     "slide_type": "slide"
    }
   },
   "source": [
    "## Configuration\n",
    "Before using McStasScript for the first time, it needs to be configured to find your McStas and/or McXtrace installation."
   ]
  },
  {
   "cell_type": "code",
   "execution_count": 2,
   "id": "colonial-extraction",
   "metadata": {},
   "outputs": [
    {
     "name": "stdout",
     "output_type": "stream",
     "text": [
      "Configurator:\n",
      " paths:\n",
      "  mcrun_path: /Applications/McStas-2.7.1.app/Contents/Resources/mcstas/2.7.1/bin/\n",
      "  mcstas_path: /Applications/McStas-2.7.1.app/Contents/Resources/mcstas/2.7.1\n",
      "  mcxtrace_path: /Applications/McXtrace-1.5.app/Contents/Resources/mcxtrace/1.5/\n",
      "  mxrun_path: /Applications/McXtrace-1.5.app/Contents/Resources/mcxtrace/1.5/bin/\n",
      " other:\n",
      "  characters_per_line: 85\n",
      "\n"
     ]
    }
   ],
   "source": [
    "configurator = ms.Configurator()\n",
    "configurator.set_mcrun_path(\"/Applications/McStas-2.7.1.app/Contents/Resources/mcstas/2.7.1/bin/\")\n",
    "configurator.set_mcstas_path(\"/Applications/McStas-2.7.1.app/Contents/Resources/mcstas/2.7.1\")\n",
    "print(configurator)"
   ]
  },
  {
   "cell_type": "markdown",
   "id": "cubic-belgium",
   "metadata": {
    "slideshow": {
     "slide_type": "slide"
    }
   },
   "source": [
    "## Create instrument objects\n",
    "The main class is the McStas_instr, used for creating instrument objects."
   ]
  },
  {
   "cell_type": "code",
   "execution_count": 3,
   "id": "atomic-final",
   "metadata": {
    "slideshow": {
     "slide_type": "-"
    }
   },
   "outputs": [],
   "source": [
    "instrument = ms.McStas_instr(\"demo\", author=\"Mads Bertelsen\")"
   ]
  },
  {
   "cell_type": "markdown",
   "id": "civilian-record",
   "metadata": {
    "slideshow": {
     "slide_type": "slide"
    }
   },
   "source": [
    "## Help from the instrument object\n",
    "The instrument object knows about your available McStas components, and has help methods available."
   ]
  },
  {
   "cell_type": "code",
   "execution_count": 4,
   "id": "revised-population",
   "metadata": {
    "slideshow": {
     "slide_type": "-"
    }
   },
   "outputs": [
    {
     "name": "stdout",
     "output_type": "stream",
     "text": [
      "Here are the available component categories:\n",
      " contrib\n",
      " misc\n",
      " monitors\n",
      " obsolete\n",
      " optics\n",
      " samples\n",
      " sources\n",
      " union\n",
      "Call available_components(category_name) to display\n"
     ]
    }
   ],
   "source": [
    "instrument.available_components()"
   ]
  },
  {
   "cell_type": "code",
   "execution_count": 5,
   "id": "alternate-barrier",
   "metadata": {},
   "outputs": [
    {
     "name": "stdout",
     "output_type": "stream",
     "text": [
      "Here are all components in the sources category.\n",
      " Adapt_check     Moderator           Source_Optimizer   Source_gen\n",
      " ESS_butterfly   Monitor_Optimizer   Source_adapt       Source_simple\n",
      " ESS_moderator   Source_Maxwell_3    Source_div         \n"
     ]
    }
   ],
   "source": [
    "instrument.available_components(\"sources\")"
   ]
  },
  {
   "cell_type": "code",
   "execution_count": 6,
   "id": "complete-resistance",
   "metadata": {
    "slideshow": {
     "slide_type": "subslide"
    }
   },
   "outputs": [
    {
     "name": "stdout",
     "output_type": "stream",
     "text": [
      " ___ Help Moderator _________________________________________________________________\n",
      "|\u001b[1moptional parameter\u001b[0m|\u001b[1m\u001b[4mrequired parameter\u001b[0m\u001b[0m|\u001b[1m\u001b[94mdefault value\u001b[0m\u001b[0m|\u001b[1m\u001b[92muser specified value\u001b[0m\u001b[0m|\n",
      "\u001b[1mradius\u001b[0m = \u001b[1m\u001b[94m0.07\u001b[0m\u001b[0m [m] // Radius of source\n",
      "\u001b[4m\u001b[1mEmin\u001b[0m\u001b[0m [meV] // Lower edge of energy distribution\n",
      "\u001b[4m\u001b[1mEmax\u001b[0m\u001b[0m [meV] // Upper edge of energy distribution\n",
      "\u001b[1mdist\u001b[0m = \u001b[1m\u001b[94m0.0\u001b[0m\u001b[0m [m] // Distance from source to the focusing rectangle\n",
      "\u001b[1mfocus_xw\u001b[0m = \u001b[1m\u001b[94m0.02\u001b[0m\u001b[0m [m] // Width of focusing rectangle\n",
      "\u001b[1mfocus_yh\u001b[0m = \u001b[1m\u001b[94m0.02\u001b[0m\u001b[0m [m] // Height of focusing rectangle\n",
      "\u001b[1mt0\u001b[0m = \u001b[1m\u001b[94m37.15\u001b[0m\u001b[0m [mus] // decay constant for low-energy neutrons\n",
      "\u001b[1mEc\u001b[0m = \u001b[1m\u001b[94m9.0\u001b[0m\u001b[0m [meV] // Critical energy, below which the flux decay is constant\n",
      "\u001b[1mgamma\u001b[0m = \u001b[1m\u001b[94m39.1\u001b[0m\u001b[0m [meV] // energy dependence of decay time\n",
      "\u001b[1mtarget_index\u001b[0m = \u001b[1m\u001b[94m1\u001b[0m\u001b[0m [1] // relative index of component to focus at, e.g. next is \n",
      "                        +1 this is used to compute 'dist' automatically. \n",
      "\u001b[1mflux\u001b[0m = \u001b[1m\u001b[94m1.0\u001b[0m\u001b[0m [1/(s cm 2 st meV)] // flux\n",
      "-------------------------------------------------------------------------------------\n"
     ]
    }
   ],
   "source": [
    "instrument.component_help(\"Moderator\")"
   ]
  },
  {
   "cell_type": "markdown",
   "id": "fewer-replacement",
   "metadata": {
    "slideshow": {
     "slide_type": "slide"
    }
   },
   "source": [
    "## Adding components\n",
    "McStas simulations rely on a sequence of components, these can be added to the instrument object with the *add_component* method. These return an instrument object that can be used to modify the component further."
   ]
  },
  {
   "cell_type": "code",
   "execution_count": 7,
   "id": "pressed-moral",
   "metadata": {},
   "outputs": [
    {
     "name": "stdout",
     "output_type": "stream",
     "text": [
      "source Source_div AT (0, 0, 0) ABSOLUTE\n"
     ]
    }
   ],
   "source": [
    "src = instrument.add_component(\"source\", \"Source_div\")\n",
    "instrument.show_components()"
   ]
  },
  {
   "cell_type": "code",
   "execution_count": 8,
   "id": "outside-labor",
   "metadata": {},
   "outputs": [
    {
     "name": "stdout",
     "output_type": "stream",
     "text": [
      "COMPONENT source = Source_div\n",
      "  \u001b[1mxwidth\u001b[0m\u001b[91m : Required parameter not yet specified\u001b[0m\n",
      "  \u001b[1myheight\u001b[0m\u001b[91m : Required parameter not yet specified\u001b[0m\n",
      "  \u001b[1mfocus_aw\u001b[0m\u001b[91m : Required parameter not yet specified\u001b[0m\n",
      "  \u001b[1mfocus_ah\u001b[0m\u001b[91m : Required parameter not yet specified\u001b[0m\n",
      "AT [0, 0, 0] ABSOLUTE\n"
     ]
    }
   ],
   "source": [
    "print(src)"
   ]
  },
  {
   "cell_type": "markdown",
   "id": "advanced-remove",
   "metadata": {},
   "source": [
    "The component parameters become python attributes on the component object."
   ]
  },
  {
   "cell_type": "code",
   "execution_count": 9,
   "id": "elementary-chester",
   "metadata": {},
   "outputs": [
    {
     "name": "stdout",
     "output_type": "stream",
     "text": [
      "COMPONENT source = Source_div\n",
      "  \u001b[1mxwidth\u001b[0m = \u001b[1m\u001b[92m0.1\u001b[0m\u001b[0m [m]\n",
      "  \u001b[1myheight\u001b[0m = \u001b[1m\u001b[92m0.05\u001b[0m\u001b[0m [m]\n",
      "  \u001b[1mfocus_aw\u001b[0m = \u001b[1m\u001b[92m1.2\u001b[0m\u001b[0m [deg]\n",
      "  \u001b[1mfocus_ah\u001b[0m = \u001b[1m\u001b[92m2.3\u001b[0m\u001b[0m [deg]\n",
      "AT [0, 0, 0] ABSOLUTE\n"
     ]
    }
   ],
   "source": [
    "src.xwidth = 0.1\n",
    "src.yheight = 0.05\n",
    "src.focus_aw = 1.2\n",
    "src.focus_ah = 2.3\n",
    "print(src)"
   ]
  },
  {
   "cell_type": "markdown",
   "id": "amino-numbers",
   "metadata": {
    "slideshow": {
     "slide_type": "slide"
    }
   },
   "source": [
    "Notice the attributes on component objects auto complete and wrong attributes are not allowed."
   ]
  },
  {
   "cell_type": "code",
   "execution_count": 10,
   "id": "patient-millennium",
   "metadata": {},
   "outputs": [],
   "source": [
    "src.focus_ah = 2.5"
   ]
  },
  {
   "cell_type": "markdown",
   "id": "numerous-immunology",
   "metadata": {
    "slideshow": {
     "slide_type": "slide"
    }
   },
   "source": [
    "### All information about a component\n",
    "The *show_parameters* method is good for getting an overview of the current state of the component parameters, as it will also show the default values."
   ]
  },
  {
   "cell_type": "code",
   "execution_count": 11,
   "id": "stuck-shape",
   "metadata": {
    "slideshow": {
     "slide_type": "-"
    }
   },
   "outputs": [
    {
     "name": "stdout",
     "output_type": "stream",
     "text": [
      " ___ Help Source_div ________________________________________________________________\n",
      "|\u001b[1moptional parameter\u001b[0m|\u001b[1m\u001b[4mrequired parameter\u001b[0m\u001b[0m|\u001b[1m\u001b[94mdefault value\u001b[0m\u001b[0m|\u001b[1m\u001b[92muser specified value\u001b[0m\u001b[0m|\n",
      "\u001b[4m\u001b[1mxwidth\u001b[0m\u001b[0m = \u001b[1m\u001b[92m0.1\u001b[0m\u001b[0m [m] // Width of source\n",
      "\u001b[4m\u001b[1myheight\u001b[0m\u001b[0m = \u001b[1m\u001b[92m0.05\u001b[0m\u001b[0m [m] // Height of source\n",
      "\u001b[4m\u001b[1mfocus_aw\u001b[0m\u001b[0m = \u001b[1m\u001b[92m1.2\u001b[0m\u001b[0m [deg] // FWHM (Gaussian) or maximal (uniform) horz. width \n",
      "                        divergence \n",
      "\u001b[4m\u001b[1mfocus_ah\u001b[0m\u001b[0m = \u001b[1m\u001b[92m2.5\u001b[0m\u001b[0m [deg] // FWHM (Gaussian) or maximal (uniform) vert. height \n",
      "                        divergence \n",
      "\u001b[1mE0\u001b[0m = \u001b[1m\u001b[94m0.0\u001b[0m\u001b[0m [meV] // Mean energy of neutrons.\n",
      "\u001b[1mdE\u001b[0m = \u001b[1m\u001b[94m0.0\u001b[0m\u001b[0m [meV] // Energy half spread of neutrons.\n",
      "\u001b[1mlambda0\u001b[0m = \u001b[1m\u001b[94m0.0\u001b[0m\u001b[0m [Ang] // Mean wavelength of neutrons (only relevant for E0=0)\n",
      "\u001b[1mdlambda\u001b[0m = \u001b[1m\u001b[94m0.0\u001b[0m\u001b[0m [Ang] // Wavelength half spread of neutrons.\n",
      "\u001b[1mgauss\u001b[0m = \u001b[1m\u001b[94m0.0\u001b[0m\u001b[0m [0|1] // Criterion\n",
      "\u001b[1mflux\u001b[0m = \u001b[1m\u001b[94m1.0\u001b[0m\u001b[0m [1/(s cm 2 st energy_unit)] // flux per energy unit, Angs or meV\n",
      "-------------------------------------------------------------------------------------\n"
     ]
    }
   ],
   "source": [
    "src.show_parameters()"
   ]
  },
  {
   "cell_type": "markdown",
   "id": "monetary-absorption",
   "metadata": {
    "slideshow": {
     "slide_type": "slide"
    }
   },
   "source": [
    "## Add instrument parameters\n",
    "Its also possible to add instrument parameters, and these can be used directly when setting component parameters."
   ]
  },
  {
   "cell_type": "code",
   "execution_count": 12,
   "id": "derived-extraction",
   "metadata": {},
   "outputs": [
    {
     "name": "stdout",
     "output_type": "stream",
     "text": [
      "int order  = 1  // Monochromator order, integer\n"
     ]
    }
   ],
   "source": [
    "instrument.add_parameter(\"int\", \"order\", value=1, comment=\"Monochromator order, integer\")\n",
    "instrument.show_parameters()"
   ]
  },
  {
   "cell_type": "code",
   "execution_count": 13,
   "id": "advanced-infrastructure",
   "metadata": {},
   "outputs": [
    {
     "name": "stdout",
     "output_type": "stream",
     "text": [
      "COMPONENT source = Source_div\n",
      "  \u001b[1mxwidth\u001b[0m = \u001b[1m\u001b[92m0.1\u001b[0m\u001b[0m [m]\n",
      "  \u001b[1myheight\u001b[0m = \u001b[1m\u001b[92m0.05\u001b[0m\u001b[0m [m]\n",
      "  \u001b[1mfocus_aw\u001b[0m = \u001b[1m\u001b[92m1.2\u001b[0m\u001b[0m [deg]\n",
      "  \u001b[1mfocus_ah\u001b[0m = \u001b[1m\u001b[92m2.5\u001b[0m\u001b[0m [deg]\n",
      "  \u001b[1mlambda0\u001b[0m = \u001b[1m\u001b[92mwavelength\u001b[0m\u001b[0m [Ang]\n",
      "  \u001b[1mdlambda\u001b[0m = \u001b[1m\u001b[92m0.01*wavelength\u001b[0m\u001b[0m [Ang]\n",
      "AT [0, 0, 0] ABSOLUTE\n"
     ]
    }
   ],
   "source": [
    "src.lambda0 = instrument.add_parameter(\"wavelength\", value=2.0, comment=\"Wavelength in [Ang]\")\n",
    "src.dlambda = \"0.01*wavelength\"\n",
    "print(src)"
   ]
  },
  {
   "cell_type": "markdown",
   "id": "angry-article",
   "metadata": {
    "slideshow": {
     "slide_type": "slide"
    }
   },
   "source": [
    "### Setting component positions\n",
    "When creating a new component, one can specify its position and rotation. "
   ]
  },
  {
   "cell_type": "code",
   "execution_count": 14,
   "id": "suited-situation",
   "metadata": {},
   "outputs": [],
   "source": [
    "guide = instrument.add_component(\"guide\", \"Guide_gravity\", AT=[0,0,1], RELATIVE=src)"
   ]
  },
  {
   "cell_type": "code",
   "execution_count": 15,
   "id": "exclusive-finger",
   "metadata": {},
   "outputs": [
    {
     "name": "stdout",
     "output_type": "stream",
     "text": [
      "COMPONENT guide = Guide_gravity\n",
      "  \u001b[1mw1\u001b[0m = \u001b[1m\u001b[92m0.05\u001b[0m\u001b[0m [m]\n",
      "  \u001b[1mh1\u001b[0m = \u001b[1m\u001b[92m0.05\u001b[0m\u001b[0m [m]\n",
      "  \u001b[1ml\u001b[0m = \u001b[1m\u001b[92m8.0\u001b[0m\u001b[0m [m]\n",
      "  \u001b[1mm\u001b[0m = \u001b[1m\u001b[92m3.5\u001b[0m\u001b[0m [1]\n",
      "  \u001b[1mG\u001b[0m = \u001b[1m\u001b[92m-9.82\u001b[0m\u001b[0m [m/s2]\n",
      "AT [0, 0, 1] RELATIVE source\n"
     ]
    }
   ],
   "source": [
    "guide.set_parameters(w1=0.05, h1=0.05, l=8.0, m=3.5, G=-9.82)\n",
    "print(guide)"
   ]
  },
  {
   "cell_type": "markdown",
   "id": "royal-script",
   "metadata": {},
   "source": [
    "One can always set the positon and rotation of component objects with the appropriate methods at a later point."
   ]
  },
  {
   "cell_type": "code",
   "execution_count": 16,
   "id": "agreed-difficulty",
   "metadata": {},
   "outputs": [],
   "source": [
    "guide.set_AT([0, 0, 2], RELATIVE=\"source\")"
   ]
  },
  {
   "cell_type": "markdown",
   "id": "focal-microwave",
   "metadata": {
    "slideshow": {
     "slide_type": "slide"
    }
   },
   "source": [
    "### Adding initialize code\n",
    "Its possible to add lines of C code to the initialize section of the written McStas file, but its equally possible to just perform these calculations directly in python. Here I show how calculate rotation of a monochromator before we add such a component."
   ]
  },
  {
   "cell_type": "code",
   "execution_count": 17,
   "id": "unavailable-brush",
   "metadata": {},
   "outputs": [],
   "source": [
    "instrument.add_declare_var(\"double\", \"mono_Q\", value=2*3.14159/1.714) # Q for Ge 311\n",
    "instrument.add_declare_var(\"double\", \"wavevector\")\n",
    "instrument.append_initialize(\"wavevector = 2.0*PI/wavelength;\")\n",
    "\n",
    "instrument.add_declare_var(\"double\", \"mono_rotation\")\n",
    "instrument.append_initialize(\"mono_rotation = asin(mono_Q/(2.0*wavevector))*RAD2DEG;\")"
   ]
  },
  {
   "cell_type": "markdown",
   "id": "hundred-graphic",
   "metadata": {
    "slideshow": {
     "slide_type": "slide"
    }
   },
   "source": [
    "### Adding a monochromator\n",
    "We can now add a monochromator that use the calculated rotation."
   ]
  },
  {
   "cell_type": "code",
   "execution_count": 18,
   "id": "coastal-marketplace",
   "metadata": {},
   "outputs": [],
   "source": [
    "mono = instrument.add_component(\"mono\", \"Monochromator_flat\")"
   ]
  },
  {
   "cell_type": "code",
   "execution_count": 19,
   "id": "suspended-opening",
   "metadata": {},
   "outputs": [
    {
     "name": "stdout",
     "output_type": "stream",
     "text": [
      "COMPONENT mono = Monochromator_flat\n",
      "  \u001b[1mzwidth\u001b[0m = \u001b[1m\u001b[92m0.05\u001b[0m\u001b[0m [m]\n",
      "  \u001b[1myheight\u001b[0m = \u001b[1m\u001b[92m0.08\u001b[0m\u001b[0m [m]\n",
      "  \u001b[1mQ\u001b[0m = \u001b[1m\u001b[92mmono_Q\u001b[0m\u001b[0m [1/angstrom]\n",
      "AT [0, 0, 8.5] RELATIVE guide\n",
      "ROTATED [0, 'mono_rotation', 0] RELATIVE guide\n"
     ]
    }
   ],
   "source": [
    "mono.set_parameters(zwidth=0.05, yheight=0.08, Q=\"mono_Q\")\n",
    "mono.set_AT([0, 0, guide.l + 0.5], RELATIVE=guide)\n",
    "mono.set_ROTATED([0, \"mono_rotation\", 0], RELATIVE=\"guide\")\n",
    "\n",
    "print(mono)"
   ]
  },
  {
   "cell_type": "markdown",
   "id": "julian-terrorism",
   "metadata": {
    "slideshow": {
     "slide_type": "-"
    }
   },
   "source": [
    "Need to set the beam direction to the direction of the scattered beam"
   ]
  },
  {
   "cell_type": "code",
   "execution_count": 20,
   "id": "existing-jefferson",
   "metadata": {},
   "outputs": [],
   "source": [
    "beam_direction = instrument.add_component(\"beam_dir\", \"Arm\", AT_RELATIVE=mono)\n",
    "beam_direction.set_ROTATED([0, \"mono_rotation\", 0], RELATIVE=mono)"
   ]
  },
  {
   "cell_type": "markdown",
   "id": "reserved-jacksonville",
   "metadata": {
    "slideshow": {
     "slide_type": "slide"
    }
   },
   "source": [
    "### Adding a sample\n",
    "Now we can set up a simple powder sample to get some mildly interesting data."
   ]
  },
  {
   "cell_type": "code",
   "execution_count": 21,
   "id": "liberal-belly",
   "metadata": {},
   "outputs": [],
   "source": [
    "sample = instrument.add_component(\"sample\", \"PowderN\", AT=[0,0,1.1], RELATIVE=\"beam_dir\")"
   ]
  },
  {
   "cell_type": "code",
   "execution_count": 22,
   "id": "hearing-marker",
   "metadata": {},
   "outputs": [
    {
     "name": "stdout",
     "output_type": "stream",
     "text": [
      "COMPONENT sample = PowderN\n",
      "  \u001b[1mreflections\u001b[0m = \u001b[1m\u001b[92m\"Na2Ca3Al2F14.laz\"\u001b[0m\u001b[0m []\n",
      "  \u001b[1mradius\u001b[0m = \u001b[1m\u001b[92m0.015\u001b[0m\u001b[0m [m]\n",
      "  \u001b[1myheight\u001b[0m = \u001b[1m\u001b[92m0.05\u001b[0m\u001b[0m [m]\n",
      "AT [0, 0, 1.1] RELATIVE beam_dir\n"
     ]
    }
   ],
   "source": [
    "sample.radius = 0.015\n",
    "sample.yheight = 0.05\n",
    "sample.reflections = '\"Na2Ca3Al2F14.laz\"'\n",
    "print(sample)"
   ]
  },
  {
   "cell_type": "markdown",
   "id": "formal-breeding",
   "metadata": {
    "slideshow": {
     "slide_type": "slide"
    }
   },
   "source": [
    "### Adding a few monitors\n",
    "At the end we add a few monitors, a two theta banana detector and a transmission PSD."
   ]
  },
  {
   "cell_type": "code",
   "execution_count": 23,
   "id": "double-officer",
   "metadata": {},
   "outputs": [],
   "source": [
    "banana = instrument.add_component(\"banana\", \"Monitor_nD\", RELATIVE=sample)\n",
    "banana.xwidth = 2.0\n",
    "banana.yheight = 0.3\n",
    "banana.restore_neutron = 1\n",
    "banana.filename = '\"banana.dat\"'\n",
    "banana.options = '\"theta limits=[5 175] bins=150, banana\"'\n",
    "\n",
    "mon = instrument.add_component(\"monitor\", \"PSD_monitor\")\n",
    "mon.nx = 100\n",
    "mon.ny = 100\n",
    "mon.filename = '\"psd.dat\"'\n",
    "mon.xwidth = 0.05\n",
    "mon.yheight = 0.08\n",
    "mon.restore_neutron = 1\n",
    "mon.set_AT([0,0,0.1], RELATIVE=sample)"
   ]
  },
  {
   "cell_type": "markdown",
   "id": "interstate-bracelet",
   "metadata": {
    "slideshow": {
     "slide_type": "slide"
    }
   },
   "source": [
    "### Checking our instrument object\n",
    "Before running our simulation we can check the contents of the instrument object and ensure its reasonable."
   ]
  },
  {
   "cell_type": "code",
   "execution_count": 24,
   "id": "surprised-construction",
   "metadata": {},
   "outputs": [
    {
     "name": "stdout",
     "output_type": "stream",
     "text": [
      "source   Source_div         AT      (0, 0, 0)             ABSOLUTE         \n",
      "guide    Guide_gravity      AT      (0, 0, 2)             RELATIVE source  \n",
      "mono     Monochromator_flat AT      (0, 0, 8.5)           RELATIVE guide    \n",
      "                            ROTATED (0, mono_rotation, 0) RELATIVE guide\n",
      "beam_dir Arm                AT      (0, 0, 0)             RELATIVE mono     \n",
      "                            ROTATED (0, mono_rotation, 0) RELATIVE mono\n",
      "sample   PowderN            AT      (0, 0, 1.1)           RELATIVE beam_dir\n",
      "banana   Monitor_nD         AT      (0, 0, 0)             RELATIVE sample  \n",
      "monitor  PSD_monitor        AT      (0, 0, 0.1)           RELATIVE sample  \n"
     ]
    }
   ],
   "source": [
    "instrument.show_components()"
   ]
  },
  {
   "cell_type": "code",
   "execution_count": 25,
   "id": "democratic-organ",
   "metadata": {},
   "outputs": [
    {
     "name": "stdout",
     "output_type": "stream",
     "text": [
      "int order       = 1    // Monochromator order, integer\n",
      "    wavelength  = 2.0  // Wavelength in [Ang]\n"
     ]
    }
   ],
   "source": [
    "instrument.show_parameters()"
   ]
  },
  {
   "cell_type": "markdown",
   "id": "hollywood-challenge",
   "metadata": {
    "slideshow": {
     "slide_type": "slide"
    }
   },
   "source": [
    "### Instrument diagram\n",
    "Instrument diagram can be generated to provide an overview of the instrument."
   ]
  },
  {
   "cell_type": "code",
   "execution_count": 26,
   "id": "catholic-gateway",
   "metadata": {},
   "outputs": [
    {
     "data": {
      "image/png": "[encoded data removed]",
      "text/plain": [
       "<Figure size 446.4x129.6 with 1 Axes>"
      ]
     },
     "metadata": {},
     "output_type": "display_data"
    },
    {
     "data": {
      "image/png": "[encoded data removed]",
      "text/plain": [
       "<Figure size 358.646x230.4 with 1 Axes>"
      ]
     },
     "metadata": {
      "needs_background": "light"
     },
     "output_type": "display_data"
    }
   ],
   "source": [
    "instrument.show_diagram()"
   ]
  },
  {
   "cell_type": "markdown",
   "id": "wanted-madonna",
   "metadata": {
    "slideshow": {
     "slide_type": "slide"
    }
   },
   "source": [
    "## Visualizing the instrument\n",
    "Can visualize the instrument directly from the notebook"
   ]
  },
  {
   "cell_type": "code",
   "execution_count": 27,
   "id": "wrong-recipient",
   "metadata": {},
   "outputs": [
    {
     "data": {
      "text/html": [
       "\n",
       "        <iframe\n",
       "            width=\"800\"\n",
       "            height=\"450\"\n",
       "            src=\"./demo_mcdisplay_1/index.html\"\n",
       "            frameborder=\"0\"\n",
       "            allowfullscreen\n",
       "        ></iframe>\n",
       "        "
      ],
      "text/plain": [
       "<IPython.lib.display.IFrame at 0x7fd538c54df0>"
      ]
     },
     "execution_count": 27,
     "metadata": {},
     "output_type": "execute_result"
    }
   ],
   "source": [
    "instrument.show_instrument()"
   ]
  },
  {
   "cell_type": "markdown",
   "id": "roman-marks",
   "metadata": {
    "slideshow": {
     "slide_type": "slide"
    }
   },
   "source": [
    "### Runnig our simulation\n",
    "Now we can run the simulation directly from python."
   ]
  },
  {
   "cell_type": "code",
   "execution_count": 28,
   "id": "amateur-allen",
   "metadata": {},
   "outputs": [
    {
     "name": "stdout",
     "output_type": "stream",
     "text": [
      "INFO: Using directory: \"/Users/madsbertelsen/McStas/McStas_teaching/Schools/2022/ESS_May_June_2022/Day3_Monday_July_4th/07_McStasScript/data_folder/mcstas_basics_1\"\n",
      "INFO: Regenerating c-file: demo.c\n",
      "CFLAGS=\n",
      "INFO: Recompiling: ./demo.out\n",
      "mccode-r.c:2837:3: warning: expression result unused [-Wunused-value]\n",
      "  *t0;\n",
      "  ^~~\n",
      "1 warning generated.\n",
      "INFO: ===\n",
      "Warning: 1.21461e+06 events were removed in Component[7] monitor=PSD_monitor()\n",
      "         (negative time, miss next components, rounding errors, Nan, Inf).\n",
      "INFO: Placing instr file copy demo.instr in dataset /Users/madsbertelsen/McStas/McStas_teaching/Schools/2022/ESS_May_June_2022/Day3_Monday_July_4th/07_McStasScript/data_folder/mcstas_basics_1\n",
      "\n",
      "      Opening input file '/Applications/McStas-2.7.1.app/Contents/Resources/mcstas/2.7.1//data/Na2Ca3Al2F14.laz' (Table_Read_Offset)\n",
      "Table from file 'Na2Ca3Al2F14.laz' (block 1) is 841 x 18 (x=1:20), constant step. interpolation: linear\n",
      "  '# TITLE *-Na2Ca3Al2F14-[I213] Courbion, G.;Ferey, G.[1988] Standard NAC cal ...'\n",
      "PowderN: sample: Reading 841 rows from Na2Ca3Al2F14.laz\n",
      "PowderN: sample: Read 841 reflections from file 'Na2Ca3Al2F14.laz'\n",
      "PowderN: sample: Vc=1079.1 [Angs] sigma_abs=11.7856 [barn] sigma_inc=13.6704 [barn] reflections=Na2Ca3Al2F14.laz\n",
      "Detector: banana_I=1.21762e-06 banana_ERR=2.14847e-08 banana_N=10051 \"banana.dat\"\n",
      "Detector: monitor_I=6.33531e-05 monitor_ERR=3.08801e-07 monitor_N=100448 \"psd.dat\"\n",
      "PowderN: sample: Info: you may highly improve the computation efficiency by using\n",
      "    SPLIT 47 COMPONENT sample=PowderN(...)\n",
      "  in the instrument description demo.instr.\n",
      "loading system configuration\n",
      "\n"
     ]
    }
   ],
   "source": [
    "instrument.settings(ncount=5E6, output_path=\"data_folder/mcstas_basics\")\n",
    "instrument.set_parameters(wavelength=2.8)\n",
    "data = instrument.backengine()"
   ]
  },
  {
   "cell_type": "markdown",
   "id": "generous-spokesman",
   "metadata": {
    "slideshow": {
     "slide_type": "slide"
    }
   },
   "source": [
    "### Plotting the data\n",
    "The *run_full_instrument* method returns a data object that we can plot."
   ]
  },
  {
   "cell_type": "code",
   "execution_count": 29,
   "id": "pediatric-frame",
   "metadata": {},
   "outputs": [
    {
     "name": "stdout",
     "output_type": "stream",
     "text": [
      "[\n",
      "McStasData: banana type: 1D  I:1.21762e-06 E:2.14847e-08 N:10051, \n",
      "McStasData: monitor type: 2D  I:6.33531e-05 E:3.08801e-07 N:100448]\n"
     ]
    }
   ],
   "source": [
    "print(data)"
   ]
  },
  {
   "cell_type": "code",
   "execution_count": 30,
   "id": "swiss-first",
   "metadata": {},
   "outputs": [
    {
     "name": "stdout",
     "output_type": "stream",
     "text": [
      "Plotting data with name banana\n",
      "Plotting data with name monitor\n"
     ]
    },
    {
     "data": {
      "image/png": "[encoded data removed]",
      "text/plain": [
       "<Figure size 1800x576 with 3 Axes>"
      ]
     },
     "metadata": {
      "needs_background": "light"
     },
     "output_type": "display_data"
    }
   ],
   "source": [
    "ms.make_sub_plot(data, fontsize=16, figsize=(25, 8))"
   ]
  },
  {
   "cell_type": "markdown",
   "id": "marine-simulation",
   "metadata": {
    "slideshow": {
     "slide_type": "slide"
    }
   },
   "source": [
    "### Plotting interface\n",
    "A widget interface is also available for plotting."
   ]
  },
  {
   "cell_type": "code",
   "execution_count": 31,
   "id": "hydraulic-anatomy",
   "metadata": {},
   "outputs": [
    {
     "data": {
      "application/vnd.jupyter.widget-view+json": {
       "model_id": "f99e635caa604d84a4a19bb6585de43c",
       "version_major": 2,
       "version_minor": 0
      },
      "text/plain": [
       "HBox(children=(Output(layout=Layout(width='75%')), VBox(children=(Label(value='Choose monitor'), Dropdown(layo…"
      ]
     },
     "metadata": {},
     "output_type": "display_data"
    }
   ],
   "source": [
    "%matplotlib widget\n",
    "import mcstasscript.jb_interface as ms_widget\n",
    "ms_widget.show(data)"
   ]
  },
  {
   "cell_type": "markdown",
   "id": "automated-preference",
   "metadata": {
    "slideshow": {
     "slide_type": "slide"
    }
   },
   "source": [
    "### Simulation interface"
   ]
  },
  {
   "cell_type": "code",
   "execution_count": 32,
   "id": "spatial-buddy",
   "metadata": {},
   "outputs": [
    {
     "data": {
      "application/vnd.jupyter.widget-view+json": {
       "model_id": "a9b7263601574567b621ede6dd6a51a9",
       "version_major": 2,
       "version_minor": 0
      },
      "text/plain": [
       "VBox(children=(VBox(children=(HBox(children=(Label(value='order', layout=Layout(height='32px', width='15%')), …"
      ]
     },
     "metadata": {},
     "output_type": "display_data"
    }
   ],
   "source": [
    "ms_widget.show(instrument)"
   ]
  },
  {
   "cell_type": "markdown",
   "id": "specific-plain",
   "metadata": {
    "slideshow": {
     "slide_type": "slide"
    }
   },
   "source": [
    "### Simulation interface"
   ]
  },
  {
   "cell_type": "code",
   "execution_count": 33,
   "id": "earlier-premium",
   "metadata": {},
   "outputs": [
    {
     "data": {
      "application/vnd.jupyter.widget-view+json": {
       "model_id": "1f00838fcc244b3e94306eaeb385cf29",
       "version_major": 2,
       "version_minor": 0
      },
      "text/plain": [
       "VBox(children=(VBox(children=(HBox(children=(Label(value='Lmin', layout=Layout(height='32px', width='15%')), T…"
      ]
     },
     "metadata": {},
     "output_type": "display_data"
    }
   ],
   "source": [
    "import POWTOF\n",
    "ms_widget.show(POWTOF.make_instrument())"
   ]
  },
  {
   "cell_type": "markdown",
   "id": "improved-seller",
   "metadata": {
    "slideshow": {
     "slide_type": "slide"
    }
   },
   "source": [
    "### Setting plotting options\n",
    "Its also possible to adjust the way data is plotted, and these preferences are stored in the data object."
   ]
  },
  {
   "cell_type": "code",
   "execution_count": 35,
   "id": "crude-chambers",
   "metadata": {},
   "outputs": [
    {
     "data": {
      "application/vnd.jupyter.widget-view+json": {
       "model_id": "96d24a5b398d46238c17bbddd0897abe",
       "version_major": 2,
       "version_minor": 0
      },
      "text/plain": [
       "Canvas(toolbar=Toolbar(toolitems=[('Home', 'Reset original view', 'home', 'home'), ('Back', 'Back to previous …"
      ]
     },
     "metadata": {},
     "output_type": "display_data"
    },
    {
     "name": "stdout",
     "output_type": "stream",
     "text": [
      "Plotting data with name banana\n",
      "Plotting data with name monitor\n"
     ]
    }
   ],
   "source": [
    "ms.name_plot_options(\"banana\", data, left_lim=90, right_lim=150)\n",
    "ms.name_plot_options(\"monitor\", data, log=True, orders_of_mag=3)\n",
    "ms.make_sub_plot(data, fontsize=12, figsize=(9, 4))"
   ]
  },
  {
   "cell_type": "markdown",
   "id": "printable-violin",
   "metadata": {
    "slideshow": {
     "slide_type": "slide"
    }
   },
   "source": [
    "### Access to the underlying data\n",
    "The underlying data is read from the McStas data files and imported as numpy arrays."
   ]
  },
  {
   "cell_type": "code",
   "execution_count": 36,
   "id": "scheduled-retention",
   "metadata": {},
   "outputs": [
    {
     "name": "stdout",
     "output_type": "stream",
     "text": [
      "McStasData: banana type: 1D  I:1.21762e-06 E:2.14847e-08 N:10051\n"
     ]
    }
   ],
   "source": [
    "import numpy as np\n",
    "banana = ms.name_search(\"banana\", data)\n",
    "print(banana)"
   ]
  },
  {
   "cell_type": "code",
   "execution_count": 37,
   "id": "continuous-preserve",
   "metadata": {},
   "outputs": [
    {
     "name": "stdout",
     "output_type": "stream",
     "text": [
      "[1.09459853e-09 6.99805139e-10 1.55326102e-09 1.04227491e-09\n",
      " 1.04517297e-09 9.44194697e-10 7.63343022e-10 7.07057806e-10\n",
      " 1.56381258e-09]\n"
     ]
    }
   ],
   "source": [
    "print(banana.Intensity[1:10])"
   ]
  },
  {
   "cell_type": "markdown",
   "id": "thick-newsletter",
   "metadata": {
    "slideshow": {
     "slide_type": "slide"
    }
   },
   "source": [
    "### Plot with matplotlib"
   ]
  },
  {
   "cell_type": "code",
   "execution_count": 38,
   "id": "harmful-likelihood",
   "metadata": {
    "slideshow": {
     "slide_type": "-"
    }
   },
   "outputs": [
    {
     "data": {
      "application/vnd.jupyter.widget-view+json": {
       "model_id": "987ffcbe42d548dab074702a10ee104c",
       "version_major": 2,
       "version_minor": 0
      },
      "text/plain": [
       "Canvas(toolbar=Toolbar(toolitems=[('Home', 'Reset original view', 'home', 'home'), ('Back', 'Back to previous …"
      ]
     },
     "metadata": {},
     "output_type": "display_data"
    }
   ],
   "source": [
    "import matplotlib.pyplot as plt\n",
    "plt.figure(figsize=(7,4))\n",
    "plt.plot(banana.xaxis, banana.Intensity)\n",
    "plt.xlabel(\"Two theta [deg]\")\n",
    "plt.ylabel(\"Intensity [n/s/bin]\")\n",
    "plt.show()"
   ]
  },
  {
   "cell_type": "markdown",
   "id": "handy-finnish",
   "metadata": {
    "slideshow": {
     "slide_type": "slide"
    }
   },
   "source": [
    "## Final remarks\n",
    "McStasScript provides a new way to use McStas from python!\n",
    "\n",
    "A full tutorial exist as Jupyter Notebooks, this presentation was a condensed version of the first part called McStas_basics.\n",
    "The tutorial covers both how to use McStasScript and the Union components.\n",
    "\n",
    "Documentaton and tutorials can be found here [https://mads-bertelsen.github.io](https://mads-bertelsen.github.io)"
   ]
  },
  {
   "cell_type": "markdown",
   "id": "industrial-edwards",
   "metadata": {
    "slideshow": {
     "slide_type": "slide"
    }
   },
   "source": [
    "## Exercise\n",
    "\n",
    "There is a quiz in the McStasScript notebooks folder in the new docker!\n",
    "\n",
    "Before starting it is important you update to the latest version. From the docker, open a terminal and type:\n",
    "```\n",
    "cd McStasScript-notebooks\n",
    "git pull\n",
    "```"
   ]
  },
  {
   "cell_type": "code",
   "execution_count": null,
   "id": "continuing-overview",
   "metadata": {},
   "outputs": [],
   "source": []
  }
 ],
 "metadata": {
  "celltoolbar": "Slideshow",
  "kernelspec": {
   "display_name": "Python 3",
   "language": "python",
   "name": "python3"
  },
  "language_info": {
   "codemirror_mode": {
    "name": "ipython",
    "version": 3
   },
   "file_extension": ".py",
   "mimetype": "text/x-python",
   "name": "python",
   "nbconvert_exporter": "python",
   "pygments_lexer": "ipython3",
   "version": "3.8.8"
  }
 },
 "nbformat": 4,
 "nbformat_minor": 5
}
