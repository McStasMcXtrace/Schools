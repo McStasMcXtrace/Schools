{
 "cells": [
  {
   "cell_type": "markdown",
   "id": "embedded-interpretation",
   "metadata": {
    "slideshow": {
     "slide_type": "slide"
    }
   },
   "source": [
    "# McStas Union components\n",
    "\n",
    "The McStas Union components is a collection of McStas components that work together to simulate complex systems with scattering in volumes.\n",
    "\n",
    "Developed by Mads Bertelsen during PhD at University of Copenhagen and development has continued at ESS DMSC."
   ]
  },
  {
   "cell_type": "markdown",
   "id": "advised-revision",
   "metadata": {
    "slideshow": {
     "slide_type": "slide"
    }
   },
   "source": [
    "![alt](figures/power_point_figures/Slide1.png)"
   ]
  },
  {
   "cell_type": "markdown",
   "id": "derived-encyclopedia",
   "metadata": {
    "slideshow": {
     "slide_type": "slide"
    }
   },
   "source": [
    "## Union components: Distributed responsibility"
   ]
  },
  {
   "cell_type": "markdown",
   "id": "continued-level",
   "metadata": {},
   "source": [
    "![alt](figures/power_point_figures/Slide2.png)"
   ]
  },
  {
   "cell_type": "markdown",
   "id": "shaped-gregory",
   "metadata": {
    "slideshow": {
     "slide_type": "slide"
    }
   },
   "source": [
    "## Physics\n",
    "Introduction to process components and *Union_make_material*."
   ]
  },
  {
   "cell_type": "code",
   "execution_count": 1,
   "id": "talented-poverty",
   "metadata": {
    "scrolled": true
   },
   "outputs": [
    {
     "data": {
      "application/vnd.jupyter.widget-view+json": {
       "model_id": "230a885dc594479f9e4c5057e0c7f34a",
       "version_major": 2,
       "version_minor": 0
      },
      "text/plain": [
       "Canvas(toolbar=Toolbar(toolitems=[('Home', 'Reset original view', 'home', 'home'), ('Back', 'Back to previous …"
      ]
     },
     "metadata": {},
     "output_type": "display_data"
    },
    {
     "data": {
      "application/vnd.jupyter.widget-view+json": {
       "model_id": "bcb4fc963f99419badbf6036f2bde08c",
       "version_major": 2,
       "version_minor": 0
      },
      "text/plain": [
       "Canvas(toolbar=Toolbar(toolitems=[('Home', 'Reset original view', 'home', 'home'), ('Back', 'Back to previous …"
      ]
     },
     "metadata": {},
     "output_type": "display_data"
    }
   ],
   "source": [
    "import mcstasscript as ms\n",
    "%matplotlib widget\n",
    "instrument = ms.McStas_instr(\"Union_demo\")\n",
    "\n",
    "incoherent = instrument.add_component(\"incoherent\", \"Incoherent_process\")\n",
    "incoherent.sigma = 2.5\n",
    "incoherent.unit_cell_volume = 13.8\n",
    "\n",
    "inc_material = instrument.add_component(\"inc_material\", \"Union_make_material\")\n",
    "inc_material.my_absorption = 1.2\n",
    "inc_material.process_string = '\"incoherent\"'\n",
    "\n",
    "instrument.show_diagram()"
   ]
  },
  {
   "cell_type": "markdown",
   "id": "declared-statement",
   "metadata": {},
   "source": [
    "Absorption cross section given as inverse penetration depth $\\mu$ from $I(z) = e^{-\\mu z}$. Unit of 1/m."
   ]
  },
  {
   "cell_type": "markdown",
   "id": "completed-converter",
   "metadata": {
    "slideshow": {
     "slide_type": "slide"
    }
   },
   "source": [
    "### Aluminium description\n",
    "Fully modular system, can include as many processes in a material as desired."
   ]
  },
  {
   "cell_type": "code",
   "execution_count": 2,
   "id": "outside-river",
   "metadata": {
    "slideshow": {
     "slide_type": "-"
    }
   },
   "outputs": [
    {
     "data": {
      "application/vnd.jupyter.widget-view+json": {
       "model_id": "89dbab8f2e54419db29e411da6a810f5",
       "version_major": 2,
       "version_minor": 0
      },
      "text/plain": [
       "Canvas(toolbar=Toolbar(toolitems=[('Home', 'Reset original view', 'home', 'home'), ('Back', 'Back to previous …"
      ]
     },
     "metadata": {},
     "output_type": "display_data"
    },
    {
     "data": {
      "application/vnd.jupyter.widget-view+json": {
       "model_id": "7735e69007624132a287d462db3d278e",
       "version_major": 2,
       "version_minor": 0
      },
      "text/plain": [
       "Canvas(toolbar=Toolbar(toolitems=[('Home', 'Reset original view', 'home', 'home'), ('Back', 'Back to previous …"
      ]
     },
     "metadata": {},
     "output_type": "display_data"
    }
   ],
   "source": [
    "instrument = ms.McStas_instr(\"Union_demo\")\n",
    "\n",
    "Al_incoherent = instrument.add_component(\"Al_incoherent\", \"Incoherent_process\")\n",
    "Al_incoherent.set_parameters(sigma=4*0.0082, unit_cell_volume=66.4)\n",
    "\n",
    "Al_powder = instrument.add_component(\"Al_powder\", \"Powder_process\")\n",
    "Al_powder.reflections = '\"Al.laz\"'\n",
    "\n",
    "Al = instrument.add_component(\"Al\", \"Union_make_material\")\n",
    "Al.process_string = '\"Al_incoherent,Al_powder\"'\n",
    "Al.my_absorption = 100*4*0.231/66.4\n",
    "\n",
    "instrument.show_diagram()"
   ]
  },
  {
   "cell_type": "markdown",
   "id": "future-blowing",
   "metadata": {
    "slideshow": {
     "slide_type": "slide"
    }
   },
   "source": [
    "### Single crystal description\n",
    "No limits on the number of user defined materials either, now we have aluminium powder and diamond crystal."
   ]
  },
  {
   "cell_type": "code",
   "execution_count": 3,
   "id": "american-punch",
   "metadata": {},
   "outputs": [
    {
     "data": {
      "application/vnd.jupyter.widget-view+json": {
       "model_id": "c7792d2bcce34cce9487f9ba8347ac61",
       "version_major": 2,
       "version_minor": 0
      },
      "text/plain": [
       "Canvas(toolbar=Toolbar(toolitems=[('Home', 'Reset original view', 'home', 'home'), ('Back', 'Back to previous …"
      ]
     },
     "metadata": {},
     "output_type": "display_data"
    },
    {
     "data": {
      "application/vnd.jupyter.widget-view+json": {
       "model_id": "473480c45df64b2b8194831879a8ee06",
       "version_major": 2,
       "version_minor": 0
      },
      "text/plain": [
       "Canvas(toolbar=Toolbar(toolitems=[('Home', 'Reset original view', 'home', 'home'), ('Back', 'Back to previous …"
      ]
     },
     "metadata": {},
     "output_type": "display_data"
    }
   ],
   "source": [
    "process = instrument.add_component(\"diamond_incoherent\", \"Incoherent_process\")\n",
    "process.set_parameters(sigma=8*0.001, unit_cell_volume=45.39)\n",
    "\n",
    "crystal_process = instrument.add_component(\"diamond_crystal\", \"Single_crystal_process\")\n",
    "crystal_process.set_parameters(mosaic=20, reflections='\"C_diamond.lau\"',\n",
    "                               ax=3.567, by=3.567, cz=3.567,)\n",
    "\n",
    "YBaCuO = instrument.add_component(\"diamond\", \"Union_make_material\")\n",
    "YBaCuO.process_string = '\"diamond_incoherent,diamond_crystal\"'\n",
    "YBaCuO.my_absorption = 100*8*0.0035/45.39\n",
    "\n",
    "instrument.show_diagram()"
   ]
  },
  {
   "cell_type": "markdown",
   "id": "executed-folks",
   "metadata": {
    "slideshow": {
     "slide_type": "slide"
    }
   },
   "source": [
    "## Physics\n",
    "A process just needs to describe the probability for scattering and handle the scattering event. Here are the currently available processes.\n",
    "\n",
    "| Process                 | Description                                 | Contributor                 |\n",
    "| :---                    |    :----                                    |    :----                    |\n",
    "| Incoherent_process      | Isotropic incoherent                        | From McStas Incoherent      |\n",
    "| Powder_process          | Powder Bragg                                | From McStas PowderN         |\n",
    "| Single_crystal_process  | Single crystal Bragg                        | From McStas Single_crystal  |\n",
    "| Phonon_simple_process   | Phonon on fcc lattice                       | From McStas Phonon_simple   |\n",
    "| NCrystal_process        | NCrystal import                             | From McStas NCrystal_sample |\n",
    "| AF_HB_1D_process        | Antiferromagnetic 1D heisenberg spin chain  | Mads Bertelsen              |\n",
    "| Texture_process         | Textured powder                             | Victor Laliena              |\n",
    "| IncoherentPhonon_process| Phonon powder                               | Victor Laliena              |\n",
    "\n",
    "It is even possible to add several instances of the same process to a material, for example to create twinned crystals, each with a phonon process oriented to that lattice."
   ]
  },
  {
   "cell_type": "markdown",
   "id": "helpful-wales",
   "metadata": {
    "slideshow": {
     "slide_type": "slide"
    }
   },
   "source": [
    "## Geometry\n",
    "Geometry components are placed in space and describe some geometry, they use a material definition to inherit their physical properties.\n",
    "\n",
    "| Geometry                | Description                                 | Contributor     |\n",
    "| :---                    |    :----                                    |    :----        |\n",
    "| Union_sphere            | Sphere                                      | Mads Bertelsen  |\n",
    "| Union_cylinder          | Finite cylinder                             | Mads Bertelsen  |\n",
    "| Union_box               | Box similar to a guide element              | Mads Bertelsen  |\n",
    "| Union_cone              | Capped cone                                 | Martin Olsen    |\n",
    "| Union_mesh              | Concave stl file (only works alone)         | Martin Olsen    |\n"
   ]
  },
  {
   "cell_type": "markdown",
   "id": "capital-consciousness",
   "metadata": {
    "slideshow": {
     "slide_type": "slide"
    }
   },
   "source": [
    "### Geometry example\n",
    "Lets make a diamond sphere"
   ]
  },
  {
   "cell_type": "code",
   "execution_count": 4,
   "id": "removable-harvest",
   "metadata": {},
   "outputs": [
    {
     "data": {
      "application/vnd.jupyter.widget-view+json": {
       "model_id": "32be376f86c0444fb341e91b21269a91",
       "version_major": 2,
       "version_minor": 0
      },
      "text/plain": [
       "Canvas(toolbar=Toolbar(toolitems=[('Home', 'Reset original view', 'home', 'home'), ('Back', 'Back to previous …"
      ]
     },
     "metadata": {},
     "output_type": "display_data"
    },
    {
     "data": {
      "application/vnd.jupyter.widget-view+json": {
       "model_id": "0dd017c746054f42b3072ec61a7cc685",
       "version_major": 2,
       "version_minor": 0
      },
      "text/plain": [
       "Canvas(toolbar=Toolbar(toolitems=[('Home', 'Reset original view', 'home', 'home'), ('Back', 'Back to previous …"
      ]
     },
     "metadata": {},
     "output_type": "display_data"
    }
   ],
   "source": [
    "sphere = instrument.add_component(\"sphere\", \"Union_sphere\")\n",
    "sphere.radius = 0.01\n",
    "sphere.material_string = '\"diamond\"'\n",
    "sphere.set_AT([0, 0, 1])\n",
    "\n",
    "instrument.show_diagram()"
   ]
  },
  {
   "cell_type": "code",
   "execution_count": 5,
   "id": "mechanical-married",
   "metadata": {},
   "outputs": [
    {
     "name": "stdout",
     "output_type": "stream",
     "text": [
      "COMPONENT sphere = Union_sphere\n",
      "  \u001b[1mmaterial_string\u001b[0m = \u001b[1m\u001b[92m\"diamond\"\u001b[0m\u001b[0m []\n",
      "  \u001b[1mpriority\u001b[0m\u001b[91m : Required parameter not yet specified\u001b[0m\n",
      "  \u001b[1mradius\u001b[0m = \u001b[1m\u001b[92m0.01\u001b[0m\u001b[0m [m]\n",
      "AT [0, 0, 1] ABSOLUTE\n"
     ]
    }
   ],
   "source": [
    "print(sphere)"
   ]
  },
  {
   "cell_type": "markdown",
   "id": "subject-caribbean",
   "metadata": {
    "slideshow": {
     "slide_type": "slide"
    }
   },
   "source": [
    "### Geometry priority\n",
    "Priority is a required parameter that handles how geometries overlap. Any point in space corresponds to one material, so when a point is in two or more geometries, the material with the highest priority is used."
   ]
  },
  {
   "cell_type": "code",
   "execution_count": 6,
   "id": "south-islam",
   "metadata": {},
   "outputs": [
    {
     "data": {
      "application/vnd.jupyter.widget-view+json": {
       "model_id": "452228bebb27453db746bfa24683cf89",
       "version_major": 2,
       "version_minor": 0
      },
      "text/plain": [
       "VBox(children=(VBox(children=(HBox(children=(Label(value='box_x', layout=Layout(height='32px', width='15%')), …"
      ]
     },
     "metadata": {},
     "output_type": "display_data"
    }
   ],
   "source": [
    "%matplotlib widget\n",
    "import geometry_example\n",
    "geometry_example.show()"
   ]
  },
  {
   "cell_type": "markdown",
   "id": "amended-survivor",
   "metadata": {
    "slideshow": {
     "slide_type": "slide"
    }
   },
   "source": [
    "### Adding am aluminium shell around our diamond sphere"
   ]
  },
  {
   "cell_type": "code",
   "execution_count": 7,
   "id": "operating-acquisition",
   "metadata": {},
   "outputs": [],
   "source": [
    "sphere.priority = 10\n",
    "\n",
    "shell = instrument.add_component(\"shell\", \"Union_cylinder\")\n",
    "shell.set_parameters(radius=0.05, yheight=0.12,\n",
    "                     material_string = '\"Al\"', priority=3,\n",
    "                     p_interact=0.2)\n",
    "shell.set_AT(0, RELATIVE=sphere)\n",
    "\n",
    "shell_vacuum = instrument.add_component(\"shell_vacuum\", \"Union_cylinder\")\n",
    "shell_vacuum.set_parameters(radius=shell.radius - 0.01, yheight=shell.yheight - 0.01,\n",
    "                            material_string = '\"Vacuum\"', priority=5)\n",
    "shell_vacuum.set_AT([0, 0, 0], RELATIVE=shell)"
   ]
  },
  {
   "cell_type": "markdown",
   "id": "impossible-creator",
   "metadata": {},
   "source": [
    "![alt](figures/power_point_figures/Slide5.png)"
   ]
  },
  {
   "cell_type": "markdown",
   "id": "extra-decade",
   "metadata": {
    "slideshow": {
     "slide_type": "slide"
    }
   },
   "source": [
    "## Master component\n",
    "There are four different types of Union components that must be present in an instrument to perform a simulation:\n",
    "\n",
    "- process components\n",
    "- make_material component\n",
    "- geometry components\n",
    "- master\n",
    "\n",
    "The *Union_master* component contains the engine that actually performs the simulation. It is the location of the Union master that decides where in the sequence of McStas components the Union system is simulated."
   ]
  },
  {
   "cell_type": "markdown",
   "id": "outer-internet",
   "metadata": {
    "slideshow": {
     "slide_type": "slide"
    }
   },
   "source": [
    "![alt](figures/power_point_figures/Slide4.png)"
   ]
  },
  {
   "cell_type": "markdown",
   "id": "interior-robertson",
   "metadata": {
    "slideshow": {
     "slide_type": "slide"
    }
   },
   "source": [
    "### Placing the source\n",
    "Since the master component will perform the simulation in the McStas component sequence, lets place a source before the master."
   ]
  },
  {
   "cell_type": "code",
   "execution_count": 8,
   "id": "constant-receipt",
   "metadata": {},
   "outputs": [],
   "source": [
    "source = instrument.add_component(\"source\", \"Source_div\")\n",
    "source.set_parameters(focus_aw=0.3, focus_ah=0.3,\n",
    "                      xwidth=0.005, yheight=0.005,\n",
    "                      flux=1E12)\n",
    "source.set_AT(-1, RELATIVE=sphere)\n",
    "\n",
    "source.lambda0 = instrument.add_parameter(\"wavelength\", value=5.0,\n",
    "                                          comment=\"Wavelength in [Ang]\")\n",
    "source.dlambda = instrument.add_parameter(\"wavelength_half_width\", value=4.5,\n",
    "                                          comment=\"Wavelength half width in [Ang]\")"
   ]
  },
  {
   "cell_type": "markdown",
   "id": "acute-estonia",
   "metadata": {
    "slideshow": {
     "slide_type": "slide"
    }
   },
   "source": [
    "## Place a master\n",
    "The master performs a full multiple scattering simulation of all geometries defined before it.\n",
    "\n",
    "It is possible to have several masters in an instrument, the second would simulate the geometries defined between the two masters.\n",
    "\n",
    "In McStas 3.X it is also necessary to include a Union_init and Union_stop component before/after any Union components. "
   ]
  },
  {
   "cell_type": "code",
   "execution_count": 9,
   "id": "moved-asthma",
   "metadata": {},
   "outputs": [],
   "source": [
    "master = instrument.add_component(\"master\", \"Union_master\")"
   ]
  },
  {
   "cell_type": "code",
   "execution_count": 10,
   "id": "ignored-admission",
   "metadata": {},
   "outputs": [
    {
     "data": {
      "application/vnd.jupyter.widget-view+json": {
       "model_id": "6f1c7f4e88c44345a7a5ba1fc5d85876",
       "version_major": 2,
       "version_minor": 0
      },
      "text/plain": [
       "Canvas(toolbar=Toolbar(toolitems=[('Home', 'Reset original view', 'home', 'home'), ('Back', 'Back to previous …"
      ]
     },
     "metadata": {},
     "output_type": "display_data"
    },
    {
     "data": {
      "application/vnd.jupyter.widget-view+json": {
       "model_id": "10fa875aff2446deaa9707af6b8aedc0",
       "version_major": 2,
       "version_minor": 0
      },
      "text/plain": [
       "Canvas(toolbar=Toolbar(toolitems=[('Home', 'Reset original view', 'home', 'home'), ('Back', 'Back to previous …"
      ]
     },
     "metadata": {},
     "output_type": "display_data"
    }
   ],
   "source": [
    "instrument.show_diagram()"
   ]
  },
  {
   "cell_type": "markdown",
   "id": "compliant-citation",
   "metadata": {
    "slideshow": {
     "slide_type": "slide"
    }
   },
   "source": [
    "### Visualizing the instrument\n",
    "The Master component is required to draw the Union system."
   ]
  },
  {
   "cell_type": "code",
   "execution_count": 11,
   "id": "dominican-waters",
   "metadata": {},
   "outputs": [
    {
     "data": {
      "text/html": [
       "\n",
       "        <iframe\n",
       "            width=\"1000\"\n",
       "            height=\"800\"\n",
       "            src=\"./Union_demo_mcdisplay_6/index.html\"\n",
       "            frameborder=\"0\"\n",
       "            allowfullscreen\n",
       "        ></iframe>\n",
       "        "
      ],
      "text/plain": [
       "<IPython.lib.display.IFrame at 0x7faf0a1a4fd0>"
      ]
     },
     "execution_count": 11,
     "metadata": {},
     "output_type": "execute_result"
    }
   ],
   "source": [
    "instrument.show_instrument(width=1000, height=800)"
   ]
  },
  {
   "cell_type": "markdown",
   "id": "subtle-remove",
   "metadata": {
    "slideshow": {
     "slide_type": "slide"
    }
   },
   "source": [
    "### Example of system simulated with Union components"
   ]
  },
  {
   "cell_type": "markdown",
   "id": "consecutive-garden",
   "metadata": {
    "slideshow": {
     "slide_type": "-"
    }
   },
   "source": [
    "![alt](figures/cryostat_geometry.png)"
   ]
  },
  {
   "cell_type": "markdown",
   "id": "interior-mexico",
   "metadata": {
    "slideshow": {
     "slide_type": "slide"
    }
   },
   "source": [
    "## Logger components\n",
    "Logger components record scattering in the simulated Union system.\n",
    "\n",
    "| Logger component           | Dimensions                            |\n",
    "| :---                       |    :----                              |\n",
    "| Union_logger_1D            | time, magnitude of scattering vector  |\n",
    "| Union_logger_2DQ           | 2D scattering vector                  |\n",
    "| Union_logger_2D_kf         | 2D final wavevector                   |\n",
    "| Union_logger_2D_kf_time    | 2D final wavevector and time          |\n",
    "| Union_logger_2D_space      | 2D space                              |\n",
    "| Union_logger_2D_space_time | 2D space and time                     |\n",
    "| Union_logger_3D_space      | 3D space                              |\n",
    "\n",
    "Some inputs are common for all Union logger components.\n",
    "\n",
    "| Parameter                  | Explanation                                                  |\n",
    "| :---                       |    :----                                                     |\n",
    "| target_geometry            | Only record for given list of geometries                     |\n",
    "| target_process             | Further select processes (if geometry selected)              |\n",
    "| order_total                | Record only the n'th scattering of rays                      |\n",
    "| order_volume               | Record only the n'th scattering in the same geometry         |\n",
    "| order_volume_process       | Record only the n'th scattering in same geometry and process |"
   ]
  },
  {
   "cell_type": "markdown",
   "id": "naked-novelty",
   "metadata": {
    "slideshow": {
     "slide_type": "slide"
    }
   },
   "source": [
    "### Model of the BIFROST collimation + filter using Union_logger_2D_space\n",
    "![alt](figures/BIFROST_filter.png)"
   ]
  },
  {
   "cell_type": "markdown",
   "id": "latin-watson",
   "metadata": {
    "slideshow": {
     "slide_type": "slide"
    }
   },
   "source": [
    "### Adding a few logger components to our example\n",
    "Back to our example with the diamond sphere within the aluminium shell."
   ]
  },
  {
   "cell_type": "code",
   "execution_count": 12,
   "id": "foreign-creature",
   "metadata": {},
   "outputs": [],
   "source": [
    "logger_time = instrument.add_component(\"logger_time_all\", \"Union_logger_1D\", before=master)\n",
    "logger_time.set_parameters(min_value=0, max_value=0.003, n1=600, filename='\"scattering_time.dat\"')\n",
    "\n",
    "logger_time = instrument.add_component(\"logger_time_shell\", \"Union_logger_1D\", before=master)\n",
    "logger_time.set_parameters(min_value=0, max_value=0.003, n1=600, filename='\"scattering_time_shell.dat\"',\n",
    "                           target_geometry='\"shell\"')\n",
    "\n",
    "logger_zx = instrument.add_component(\"logger_space_zx\", \"Union_logger_2D_space\",\n",
    "                                     before=master, RELATIVE=sphere)\n",
    "logger_zx.set_parameters(D_direction_1='\"z\"', D1_min=-0.07, D1_max=0.07, n1=300,\n",
    "                         D_direction_2='\"x\"', D2_min=-0.07, D2_max=0.07, n2=300,\n",
    "                         filename='\"logger_zx.dat\"')\n",
    "\n",
    "logger_zx = instrument.add_component(\"logger_space_zx_1\", \"Union_logger_2D_space\",\n",
    "                                     before=master, RELATIVE=sphere)\n",
    "logger_zx.set_parameters(D_direction_1='\"z\"', D1_min=-0.07, D1_max=0.07, n1=300,\n",
    "                         D_direction_2='\"x\"', D2_min=-0.07, D2_max=0.07, n2=300,\n",
    "                         filename='\"logger_zx_1.dat\"', order_total=1)\n",
    "\n",
    "logger_zx = instrument.add_component(\"logger_space_zx_2\", \"Union_logger_2D_space\",\n",
    "                                     before=master, RELATIVE=sphere)\n",
    "logger_zx.set_parameters(D_direction_1='\"z\"', D1_min=-0.07, D1_max=0.07, n1=300,\n",
    "                         D_direction_2='\"x\"', D2_min=-0.07, D2_max=0.07, n2=300,\n",
    "                         filename='\"logger_zx_2.dat\"', order_total=2)"
   ]
  },
  {
   "cell_type": "markdown",
   "id": "three-battery",
   "metadata": {
    "slideshow": {
     "slide_type": "slide"
    }
   },
   "source": [
    "### Adding a few more logger components to our example"
   ]
  },
  {
   "cell_type": "code",
   "execution_count": 13,
   "id": "overhead-dollar",
   "metadata": {
    "slideshow": {
     "slide_type": "-"
    }
   },
   "outputs": [],
   "source": [
    "logger_zy = instrument.add_component(\"logger_space_zy\", \"Union_logger_2D_space\",\n",
    "                                     before=master, RELATIVE=sphere)\n",
    "logger_zy.set_parameters(D_direction_1='\"z\"', D1_min=-0.07, D1_max=0.07, n1=300,\n",
    "                         D_direction_2='\"y\"', D2_min=-0.07, D2_max=0.07, n2=300,\n",
    "                         filename='\"logger_zy.dat\"')\n",
    "\n",
    "logger_xy = instrument.add_component(\"logger_space_xy\", \"Union_logger_2D_space\",\n",
    "                                     before=master, RELATIVE=sphere)\n",
    "logger_xy.set_parameters(D_direction_1='\"x\"', D1_min=-0.06, D1_max=0.07, n1=300,\n",
    "                         D_direction_2='\"y\"', D2_min=-0.07, D2_max=0.07, n2=300,\n",
    "                         filename='\"logger_xy.dat\"') \n",
    "\n",
    "logger_2DQ = instrument.add_component(\"logger_2DQ\", \"Union_logger_2DQ\", before=master)\n",
    "logger_2DQ.set_parameters(Q_direction_1 = '\"z\"', Q1_min = -8.0, Q1_max = 8.0, n1 = 500,\n",
    "                         Q_direction_2 = '\"x\"', Q2_min = -8.0, Q2_max = 8.0, n2 = 500,\n",
    "                         filename = '\"logger_2DQ.dat\"')\n",
    "\n",
    "L_monitor = instrument.add_component(\"L_monitor\", \"L_monitor\")\n",
    "L_monitor.set_AT(0.3, RELATIVE=sphere)\n",
    "L_monitor.set_parameters(xwidth=0.8, yheight=0.8,\n",
    "                         Lmin=\"wavelength - wavelength_half_width\",\n",
    "                         Lmax=\"wavelength + wavelength_half_width\",\n",
    "                         nL=300, filename='\"l_mon.dat\"', restore_neutron=1)\n",
    "\n",
    "banana_detector = instrument.add_component(\"banana_detector\", \"Monitor_nD\")\n",
    "banana_detector.set_RELATIVE(sphere)\n",
    "banana_detector.set_parameters(xwidth = 0.12, yheight = 0.2, filename='\"banana_tof.dat\"', restore_neutron=1,\n",
    "                               options='\"banana, theta limits=[-180,180] bins=361, t limits=[0.0004 0.00085] bins=500\"')"
   ]
  },
  {
   "cell_type": "markdown",
   "id": "scenic-turkey",
   "metadata": {
    "slideshow": {
     "slide_type": "slide"
    }
   },
   "source": [
    "## Running the simulation"
   ]
  },
  {
   "cell_type": "code",
   "execution_count": 14,
   "id": "upset-purple",
   "metadata": {},
   "outputs": [
    {
     "data": {
      "application/vnd.jupyter.widget-view+json": {
       "model_id": "fa108b3d301c4cdba347b979a2fd4f8c",
       "version_major": 2,
       "version_minor": 0
      },
      "text/plain": [
       "VBox(children=(VBox(children=(HBox(children=(Label(value='wavelength', layout=Layout(height='32px', width='15%…"
      ]
     },
     "metadata": {},
     "output_type": "display_data"
    }
   ],
   "source": [
    "import mcstasscript.jb_interface as ms_widget\n",
    "ms_widget.show(instrument)"
   ]
  },
  {
   "cell_type": "markdown",
   "id": "protecting-discussion",
   "metadata": {
    "slideshow": {
     "slide_type": "slide"
    }
   },
   "source": [
    "### Making an animation from time logger "
   ]
  },
  {
   "cell_type": "code",
   "execution_count": 15,
   "id": "hybrid-advocacy",
   "metadata": {},
   "outputs": [
    {
     "name": "stdout",
     "output_type": "stream",
     "text": [
      "INFO: Using directory: \"/Users/madsbertelsen/McStas/McStas_teaching/Schools/2022/ESS_May_June_2022/Day3_Monday_July_4th/08_Union/Union_demo_data_2\"\n",
      "INFO: Regenerating c-file: Union_demo.c\n",
      "CFLAGS= -I@MCCODE_LIB@/share/\n",
      "INFO: Recompiling: ./Union_demo.out\n",
      "mccode-r.c:1880:1: warning: non-void function does not return a value in all control paths [-Wreturn-type]\n",
      "} /* mcsiminfo_init */\n",
      "^\n",
      "mccode-r.c:2837:3: warning: expression result unused [-Wunused-value]\n",
      "  *t0;\n",
      "  ^~~\n",
      "In file included from /Applications/McStas-2.7.1.app/Contents/Resources/mcstas/2.7.1//contrib/union/Incoherent_process.comp:65:\n",
      "./Union_functions.c:1604:105: warning: incompatible pointer types passing 'int (const struct saved_history_struct *, const struct saved_history_struct *)' to parameter of type 'int (* _Nonnull)(const void *, const void *)' [-Wincompatible-pointer-types]\n",
      "  qsort(total_history.saved_histories,total_history.used_elements,sizeof (struct saved_history_struct), Sample_compare_history_intensities);\n",
      "                                                                                                        ^~~~~~~~~~~~~~~~~~~~~~~~~~~~~~~~~~\n",
      "/Library/Developer/CommandLineTools/SDKs/MacOSX10.15.sdk/usr/include/stdlib.h:161:22: note: passing argument to parameter '__compar' here\n",
      "            int (* _Nonnull __compar)(const void *, const void *));\n",
      "                            ^\n",
      "In file included from /Applications/McStas-2.7.1.app/Contents/Resources/mcstas/2.7.1//contrib/union/Incoherent_process.comp:65:\n",
      "./Union_functions.c:1613:20: warning: incompatible pointer types passing 'struct saved_history_struct *' to parameter of type 'struct dynamic_history_list *' [-Wincompatible-pointer-types]\n",
      "    printf_history(&total_history.saved_histories[history_iterate]);\n",
      "                   ^~~~~~~~~~~~~~~~~~~~~~~~~~~~~~~~~~~~~~~~~~~~~~~\n",
      "mccode-r.h:201:5: note: expanded from macro 'MPI_MASTER'\n",
      "  { statement; } \\\n",
      "    ^~~~~~~~~\n",
      "./Union_functions.c:1434:50: note: passing argument to parameter 'history' here\n",
      "void printf_history(struct dynamic_history_list *history) {\n",
      "                                                 ^\n",
      "In file included from /Applications/McStas-2.7.1.app/Contents/Resources/mcstas/2.7.1//contrib/union/Incoherent_process.comp:65:\n",
      "In file included from ./Union_functions.c:2030:\n",
      "./Geometry_functions.c:839:1: warning: non-void function does not return a value in all control paths [-Wreturn-type]\n",
      "};\n",
      "^\n",
      "./Geometry_functions.c:883:1: warning: non-void function does not return a value [-Wreturn-type]\n",
      "};\n",
      "^\n",
      "./Geometry_functions.c:3274:42: warning: if statement has empty body [-Wempty-body]\n",
      "    if (dist_to_corner > sphere_2_radius); { sphere_2_radius = dist_to_corner ; }\n",
      "                                         ^\n",
      "./Geometry_functions.c:3274:42: note: put the semicolon on a separate line to silence this warning\n",
      "./Geometry_functions.c:3276:42: warning: if statement has empty body [-Wempty-body]\n",
      "    if (dist_to_corner > sphere_2_radius); { sphere_2_radius = dist_to_corner ; }\n",
      "                                         ^\n",
      "./Geometry_functions.c:3276:42: note: put the semicolon on a separate line to silence this warning\n",
      "./Geometry_functions.c:3278:42: warning: if statement has empty body [-Wempty-body]\n",
      "    if (dist_to_corner > sphere_2_radius); { sphere_2_radius = dist_to_corner ; }\n",
      "                                         ^\n",
      "./Geometry_functions.c:3278:42: note: put the semicolon on a separate line to silence this warning\n",
      "./Geometry_functions.c:3280:42: warning: if statement has empty body [-Wempty-body]\n",
      "    if (dist_to_corner > sphere_2_radius); { sphere_2_radius = dist_to_corner ; }\n",
      "                                         ^\n",
      "./Geometry_functions.c:3280:42: note: put the semicolon on a separate line to silence this warning\n",
      "/Applications/McStas-2.7.1.app/Contents/Resources/mcstas/2.7.1//contrib/union/Single_crystal_process.comp:858:1: warning: non-void function does not return a value in all control paths [-Wreturn-type]\n",
      "};\n",
      "^\n",
      "/Applications/McStas-2.7.1.app/Contents/Resources/mcstas/2.7.1//contrib/union/Union_logger_1D.comp:479:45: warning: format string is not a string literal (potentially insecure) [-Wformat-security]\n",
      "  sprintf(this_storage.Detector_1D.Filename,filename);\n",
      "                                            ^~~~~~~~\n",
      "./Union_demo.c:18031:18: note: expanded from macro 'filename'\n",
      "#define filename mcclogger_time_all_filename\n",
      "                 ^~~~~~~~~~~~~~~~~~~~~~~~~~~\n",
      "/Library/Developer/CommandLineTools/SDKs/MacOSX10.15.sdk/usr/include/secure/_stdio.h:47:56: note: expanded from macro 'sprintf'\n",
      "  __builtin___sprintf_chk (str, 0, __darwin_obsz(str), __VA_ARGS__)\n",
      "                                                       ^~~~~~~~~~~\n",
      "/Applications/McStas-2.7.1.app/Contents/Resources/mcstas/2.7.1//contrib/union/Union_logger_1D.comp:479:45: note: treat the string as an argument to avoid this\n",
      "  sprintf(this_storage.Detector_1D.Filename,filename);\n",
      "                                            ^\n",
      "                                            \"%s\", \n",
      "./Union_demo.c:18031:18: note: expanded from macro 'filename'\n",
      "#define filename mcclogger_time_all_filename\n",
      "                 ^\n",
      "/Library/Developer/CommandLineTools/SDKs/MacOSX10.15.sdk/usr/include/secure/_stdio.h:47:56: note: expanded from macro 'sprintf'\n",
      "  __builtin___sprintf_chk (str, 0, __darwin_obsz(str), __VA_ARGS__)\n",
      "                                                       ^\n",
      "/Applications/McStas-2.7.1.app/Contents/Resources/mcstas/2.7.1//contrib/union/Union_logger_1D.comp:479:45: warning: format string is not a string literal (potentially insecure) [-Wformat-security]\n",
      "  sprintf(this_storage.Detector_1D.Filename,filename);\n",
      "                                            ^~~~~~~~\n",
      "./Union_demo.c:18219:18: note: expanded from macro 'filename'\n",
      "#define filename mcclogger_time_shell_filename\n",
      "                 ^~~~~~~~~~~~~~~~~~~~~~~~~~~~~\n",
      "/Library/Developer/CommandLineTools/SDKs/MacOSX10.15.sdk/usr/include/secure/_stdio.h:47:56: note: expanded from macro 'sprintf'\n",
      "  __builtin___sprintf_chk (str, 0, __darwin_obsz(str), __VA_ARGS__)\n",
      "                                                       ^~~~~~~~~~~\n",
      "/Applications/McStas-2.7.1.app/Contents/Resources/mcstas/2.7.1//contrib/union/Union_logger_1D.comp:479:45: note: treat the string as an argument to avoid this\n",
      "  sprintf(this_storage.Detector_1D.Filename,filename);\n",
      "                                            ^\n",
      "                                            \"%s\", \n",
      "./Union_demo.c:18219:18: note: expanded from macro 'filename'\n",
      "#define filename mcclogger_time_shell_filename\n",
      "                 ^\n",
      "/Library/Developer/CommandLineTools/SDKs/MacOSX10.15.sdk/usr/include/secure/_stdio.h:47:56: note: expanded from macro 'sprintf'\n",
      "  __builtin___sprintf_chk (str, 0, __darwin_obsz(str), __VA_ARGS__)\n",
      "                                                       ^\n",
      "/Applications/McStas-2.7.1.app/Contents/Resources/mcstas/2.7.1//contrib/union/Union_logger_2D_space.comp:574:45: warning: format string is not a string literal (potentially insecure) [-Wformat-security]\n",
      "  sprintf(this_storage.Detector_2D.Filename,filename);\n",
      "                                            ^~~~~~~~\n",
      "./Union_demo.c:18411:18: note: expanded from macro 'filename'\n",
      "#define filename mcclogger_space_zx_filename\n",
      "                 ^~~~~~~~~~~~~~~~~~~~~~~~~~~\n",
      "/Library/Developer/CommandLineTools/SDKs/MacOSX10.15.sdk/usr/include/secure/_stdio.h:47:56: note: expanded from macro 'sprintf'\n",
      "  __builtin___sprintf_chk (str, 0, __darwin_obsz(str), __VA_ARGS__)\n",
      "                                                       ^~~~~~~~~~~\n",
      "/Applications/McStas-2.7.1.app/Contents/Resources/mcstas/2.7.1//contrib/union/Union_logger_2D_space.comp:574:45: note: treat the string as an argument to avoid this\n",
      "  sprintf(this_storage.Detector_2D.Filename,filename);\n",
      "                                            ^\n",
      "                                            \"%s\", \n",
      "./Union_demo.c:18411:18: note: expanded from macro 'filename'\n",
      "#define filename mcclogger_space_zx_filename\n",
      "                 ^\n",
      "/Library/Developer/CommandLineTools/SDKs/MacOSX10.15.sdk/usr/include/secure/_stdio.h:47:56: note: expanded from macro 'sprintf'\n",
      "  __builtin___sprintf_chk (str, 0, __darwin_obsz(str), __VA_ARGS__)\n",
      "                                                       ^\n",
      "/Applications/McStas-2.7.1.app/Contents/Resources/mcstas/2.7.1//contrib/union/Union_logger_2D_space.comp:574:45: warning: format string is not a string literal (potentially insecure) [-Wformat-security]\n",
      "  sprintf(this_storage.Detector_2D.Filename,filename);\n",
      "                                            ^~~~~~~~\n",
      "./Union_demo.c:18654:18: note: expanded from macro 'filename'\n",
      "#define filename mcclogger_space_zx_1_filename\n",
      "                 ^~~~~~~~~~~~~~~~~~~~~~~~~~~~~\n",
      "/Library/Developer/CommandLineTools/SDKs/MacOSX10.15.sdk/usr/include/secure/_stdio.h:47:56: note: expanded from macro 'sprintf'\n",
      "  __builtin___sprintf_chk (str, 0, __darwin_obsz(str), __VA_ARGS__)\n",
      "                                                       ^~~~~~~~~~~\n",
      "/Applications/McStas-2.7.1.app/Contents/Resources/mcstas/2.7.1//contrib/union/Union_logger_2D_space.comp:574:45: note: treat the string as an argument to avoid this\n",
      "  sprintf(this_storage.Detector_2D.Filename,filename);\n",
      "                                            ^\n",
      "                                            \"%s\", \n",
      "./Union_demo.c:18654:18: note: expanded from macro 'filename'\n",
      "#define filename mcclogger_space_zx_1_filename\n",
      "                 ^\n",
      "/Library/Developer/CommandLineTools/SDKs/MacOSX10.15.sdk/usr/include/secure/_stdio.h:47:56: note: expanded from macro 'sprintf'\n",
      "  __builtin___sprintf_chk (str, 0, __darwin_obsz(str), __VA_ARGS__)\n",
      "                                                       ^\n",
      "/Applications/McStas-2.7.1.app/Contents/Resources/mcstas/2.7.1//contrib/union/Union_logger_2D_space.comp:574:45: warning: format string is not a string literal (potentially insecure) [-Wformat-security]\n",
      "  sprintf(this_storage.Detector_2D.Filename,filename);\n",
      "                                            ^~~~~~~~\n",
      "./Union_demo.c:18897:18: note: expanded from macro 'filename'\n",
      "#define filename mcclogger_space_zx_2_filename\n",
      "                 ^~~~~~~~~~~~~~~~~~~~~~~~~~~~~\n",
      "/Library/Developer/CommandLineTools/SDKs/MacOSX10.15.sdk/usr/include/secure/_stdio.h:47:56: note: expanded from macro 'sprintf'\n",
      "  __builtin___sprintf_chk (str, 0, __darwin_obsz(str), __VA_ARGS__)\n",
      "                                                       ^~~~~~~~~~~\n",
      "/Applications/McStas-2.7.1.app/Contents/Resources/mcstas/2.7.1//contrib/union/Union_logger_2D_space.comp:574:45: note: treat the string as an argument to avoid this\n",
      "  sprintf(this_storage.Detector_2D.Filename,filename);\n",
      "                                            ^\n",
      "                                            \"%s\", \n",
      "./Union_demo.c:18897:18: note: expanded from macro 'filename'\n",
      "#define filename mcclogger_space_zx_2_filename\n",
      "                 ^\n",
      "/Library/Developer/CommandLineTools/SDKs/MacOSX10.15.sdk/usr/include/secure/_stdio.h:47:56: note: expanded from macro 'sprintf'\n",
      "  __builtin___sprintf_chk (str, 0, __darwin_obsz(str), __VA_ARGS__)\n",
      "                                                       ^\n",
      "/Applications/McStas-2.7.1.app/Contents/Resources/mcstas/2.7.1//contrib/union/Union_logger_2D_space.comp:574:45: warning: format string is not a string literal (potentially insecure) [-Wformat-security]\n",
      "  sprintf(this_storage.Detector_2D.Filename,filename);\n",
      "                                            ^~~~~~~~\n",
      "./Union_demo.c:19140:18: note: expanded from macro 'filename'\n",
      "#define filename mcclogger_space_zy_filename\n",
      "                 ^~~~~~~~~~~~~~~~~~~~~~~~~~~\n",
      "/Library/Developer/CommandLineTools/SDKs/MacOSX10.15.sdk/usr/include/secure/_stdio.h:47:56: note: expanded from macro 'sprintf'\n",
      "  __builtin___sprintf_chk (str, 0, __darwin_obsz(str), __VA_ARGS__)\n",
      "                                                       ^~~~~~~~~~~\n",
      "/Applications/McStas-2.7.1.app/Contents/Resources/mcstas/2.7.1//contrib/union/Union_logger_2D_space.comp:574:45: note: treat the string as an argument to avoid this\n",
      "  sprintf(this_storage.Detector_2D.Filename,filename);\n",
      "                                            ^\n",
      "                                            \"%s\", \n",
      "./Union_demo.c:19140:18: note: expanded from macro 'filename'\n",
      "#define filename mcclogger_space_zy_filename\n",
      "                 ^\n",
      "/Library/Developer/CommandLineTools/SDKs/MacOSX10.15.sdk/usr/include/secure/_stdio.h:47:56: note: expanded from macro 'sprintf'\n",
      "  __builtin___sprintf_chk (str, 0, __darwin_obsz(str), __VA_ARGS__)\n",
      "                                                       ^\n",
      "/Applications/McStas-2.7.1.app/Contents/Resources/mcstas/2.7.1//contrib/union/Union_logger_2D_space.comp:574:45: warning: format string is not a string literal (potentially insecure) [-Wformat-security]\n",
      "  sprintf(this_storage.Detector_2D.Filename,filename);\n",
      "                                            ^~~~~~~~\n",
      "./Union_demo.c:19383:18: note: expanded from macro 'filename'\n",
      "#define filename mcclogger_space_xy_filename\n",
      "                 ^~~~~~~~~~~~~~~~~~~~~~~~~~~\n",
      "/Library/Developer/CommandLineTools/SDKs/MacOSX10.15.sdk/usr/include/secure/_stdio.h:47:56: note: expanded from macro 'sprintf'\n",
      "  __builtin___sprintf_chk (str, 0, __darwin_obsz(str), __VA_ARGS__)\n",
      "                                                       ^~~~~~~~~~~\n",
      "/Applications/McStas-2.7.1.app/Contents/Resources/mcstas/2.7.1//contrib/union/Union_logger_2D_space.comp:574:45: note: treat the string as an argument to avoid this\n",
      "  sprintf(this_storage.Detector_2D.Filename,filename);\n",
      "                                            ^\n",
      "                                            \"%s\", \n",
      "./Union_demo.c:19383:18: note: expanded from macro 'filename'\n",
      "#define filename mcclogger_space_xy_filename\n",
      "                 ^\n",
      "/Library/Developer/CommandLineTools/SDKs/MacOSX10.15.sdk/usr/include/secure/_stdio.h:47:56: note: expanded from macro 'sprintf'\n",
      "  __builtin___sprintf_chk (str, 0, __darwin_obsz(str), __VA_ARGS__)\n",
      "                                                       ^\n",
      "/Applications/McStas-2.7.1.app/Contents/Resources/mcstas/2.7.1//contrib/union/Union_logger_2DQ.comp:535:45: warning: format string is not a string literal (potentially insecure) [-Wformat-security]\n",
      "  sprintf(this_storage.Detector_2D.Filename,filename);\n",
      "                                            ^~~~~~~~\n",
      "./Union_demo.c:19626:18: note: expanded from macro 'filename'\n",
      "#define filename mcclogger_2DQ_filename\n",
      "                 ^~~~~~~~~~~~~~~~~~~~~~\n",
      "/Library/Developer/CommandLineTools/SDKs/MacOSX10.15.sdk/usr/include/secure/_stdio.h:47:56: note: expanded from macro 'sprintf'\n",
      "  __builtin___sprintf_chk (str, 0, __darwin_obsz(str), __VA_ARGS__)\n",
      "                                                       ^~~~~~~~~~~\n",
      "/Applications/McStas-2.7.1.app/Contents/Resources/mcstas/2.7.1//contrib/union/Union_logger_2DQ.comp:535:45: note: treat the string as an argument to avoid this\n",
      "  sprintf(this_storage.Detector_2D.Filename,filename);\n",
      "                                            ^\n",
      "                                            \"%s\", \n",
      "./Union_demo.c:19626:18: note: expanded from macro 'filename'\n",
      "#define filename mcclogger_2DQ_filename\n",
      "                 ^\n",
      "/Library/Developer/CommandLineTools/SDKs/MacOSX10.15.sdk/usr/include/secure/_stdio.h:47:56: note: expanded from macro 'sprintf'\n",
      "  __builtin___sprintf_chk (str, 0, __darwin_obsz(str), __VA_ARGS__)\n",
      "                                                       ^\n",
      "/Applications/McStas-2.7.1.app/Contents/Resources/mcstas/2.7.1//contrib/union/Union_logger_2D_space_time.comp:632:45: warning: format string is not a string literal (potentially insecure) [-Wformat-security]\n",
      "  sprintf(this_storage.Detector_3D.Filename,filename);\n",
      "                                            ^~~~~~~~\n",
      "./Union_demo.c:19861:18: note: expanded from macro 'filename'\n",
      "#define filename mcclogger_2D_space_time_filename\n",
      "                 ^~~~~~~~~~~~~~~~~~~~~~~~~~~~~~~~\n",
      "/Library/Developer/CommandLineTools/SDKs/MacOSX10.15.sdk/usr/include/secure/_stdio.h:47:56: note: expanded from macro 'sprintf'\n",
      "  __builtin___sprintf_chk (str, 0, __darwin_obsz(str), __VA_ARGS__)\n",
      "                                                       ^~~~~~~~~~~\n",
      "/Applications/McStas-2.7.1.app/Contents/Resources/mcstas/2.7.1//contrib/union/Union_logger_2D_space_time.comp:632:45: note: treat the string as an argument to avoid this\n",
      "  sprintf(this_storage.Detector_3D.Filename,filename);\n",
      "                                            ^\n",
      "                                            \"%s\", \n",
      "./Union_demo.c:19861:18: note: expanded from macro 'filename'\n",
      "#define filename mcclogger_2D_space_time_filename\n",
      "                 ^\n",
      "/Library/Developer/CommandLineTools/SDKs/MacOSX10.15.sdk/usr/include/secure/_stdio.h:47:56: note: expanded from macro 'sprintf'\n",
      "  __builtin___sprintf_chk (str, 0, __darwin_obsz(str), __VA_ARGS__)\n",
      "                                                       ^\n",
      "/Applications/McStas-2.7.1.app/Contents/Resources/mcstas/2.7.1//contrib/union/Union_master.comp:788:15: warning: expression result unused [-Wunused-value]\n",
      "          if (volume_index_main,Volumes[volume_index_main]->geometry.is_mask_volume == 0 ||\n",
      "              ^~~~~~~~~~~~~~~~~\n",
      "mccode-r.h:201:5: note: expanded from macro 'MPI_MASTER'\n",
      "  { statement; } \\\n",
      "    ^~~~~~~~~\n",
      "/Applications/McStas-2.7.1.app/Contents/Resources/mcstas/2.7.1//contrib/union/Union_master.comp:788:90: warning: expression result unused [-Wunused-value]\n",
      "          if (volume_index_main,Volumes[volume_index_main]->geometry.is_mask_volume == 0 ||\n",
      "          ~~~~~~~~~~~~~~~~~~~~~~~~~~~~~~~~~~~~~~~~~~~~~~~~~~~~~~~~~~~~~~~~~~~~~~~~~~~~~~~^~\n",
      "mccode-r.h:201:5: note: expanded from macro 'MPI_MASTER'\n",
      "  { statement; } \\\n",
      "    ^~~~~~~~~\n",
      "/Applications/McStas-2.7.1.app/Contents/Resources/mcstas/2.7.1//contrib/union/Union_master.comp:789:92: warning: expression result unused [-Wunused-value]\n",
      "              volume_index_main,Volumes[volume_index_main]->geometry.is_masked_volume == 0 ||\n",
      "              ~~~~~~~~~~~~~~~~~~~~~~~~~~~~~~~~~~~~~~~~~~~~~~~~~~~~~~~~~~~~~~~~~~~~~~~~~~~~~^~\n",
      "mccode-r.h:201:5: note: expanded from macro 'MPI_MASTER'\n",
      "  { statement; } \\\n",
      "    ^~~~~~~~~\n",
      "23 warnings generated.\n",
      "INFO: ===\n",
      "Warning: 1.57245e+06 events were removed in Component[21] L_monitor=L_monitor()\n",
      "         (negative time, miss next components, rounding errors, Nan, Inf).\n",
      "Warning: 1.57199e+06 events were removed in Component[21] L_monitor=L_monitor()\n",
      "         (negative time, miss next components, rounding errors, Nan, Inf).\n",
      "Warning: 1.57149e+06 events were removed in Component[21] L_monitor=L_monitor()\n",
      "         (negative time, miss next components, rounding errors, Nan, Inf).\n",
      "Warning: 1.57334e+06 events were removed in Component[21] L_monitor=L_monitor()\n",
      "         (negative time, miss next components, rounding errors, Nan, Inf).\n",
      "Warning: 1.57383e+06 events were removed in Component[21] L_monitor=L_monitor()\n",
      "         (negative time, miss next components, rounding errors, Nan, Inf).\n",
      "Warning: 1.57353e+06 events were removed in Component[21] L_monitor=L_monitor()\n",
      "         (negative time, miss next components, rounding errors, Nan, Inf).\n",
      "INFO: Placing instr file copy Union_demo.instr in dataset /Users/madsbertelsen/McStas/McStas_teaching/Schools/2022/ESS_May_June_2022/Day3_Monday_July_4th/08_Union/Union_demo_data_2\n",
      "\n",
      "          Simulation 'Union_demo' (Union_demo.instr): running on 6 nodes (master is 'CI0021617', MPI version 3.1).\n",
      "Opening input file '/Applications/McStas-2.7.1.app/Contents/Resources/mcstas/2.7.1//data/Al.laz' (Table_Read_Offset)\n",
      "Table from file 'Al.laz' (block 1) is 26 x 18 (x=1:8), constant step. interpolation: linear\n",
      "  '# TITLE *Aluminum-Al-[FM3-M] Miller, H.P.jr.;DuMond, J.W.M.[1942] at 298 K; ...'\n",
      "PowderN: Al_powder: Reading 26 rows from Al.laz\n",
      "PowderN: Al_powder: Read 26 reflections from file 'Al.laz'\n",
      "PowderN: Al_powder: Vc=66.4 [Angs] sigma_abs=0.924 [barn] sigma_inc=0.0328 [barn] reflections=Al.laz\n",
      "Table from file 'Al.laz' (block 1) is 26 x 18 (x=1:8), constant step. interpolation: linear\n",
      "  '# TITLE *Aluminum-Al-[FM3-M] Miller, H.P.jr.;DuMond, J.W.M.[1942] at 298 K; ...'\n",
      "PowderN: Al_powder: Reading 26 rows from Al.laz\n",
      "PowderN: Al_powder: Read 26 reflections from file 'Al.laz'\n",
      "PowderN: Al_powder: Vc=66.4 [Angs] sigma_abs=0.924 [barn] sigma_inc=0.0328 [barn] reflections=Al.laz\n",
      "Table from file 'Al.laz' (block 1) is 26 x 18 (x=1:8), constant step. interpolation: linear\n",
      "  '# TITLE *Aluminum-Al-[FM3-M] Miller, H.P.jr.;DuMond, J.W.M.[1942] at 298 K; ...'\n",
      "PowderN: Al_powder: Reading 26 rows from Al.laz\n",
      "PowderN: Al_powder: Read 26 reflections from file 'Al.laz'\n",
      "PowderN: Al_powder: Vc=66.4 [Angs] sigma_abs=0.924 [barn] sigma_inc=0.0328 [barn] reflections=Al.laz\n",
      "Table from file 'Al.laz' (block 1) is 26 x 18 (x=1:8), constant step. interpolation: linear\n",
      "  '# TITLE *Aluminum-Al-[FM3-M] Miller, H.P.jr.;DuMond, J.W.M.[1942] at 298 K; ...'\n",
      "PowderN: Al_powder: Reading 26 rows from Al.laz\n",
      "PowderN: Al_powder: Read 26 reflections from file 'Al.laz'\n",
      "PowderN: Al_powder: Vc=66.4 [Angs] sigma_abs=0.924 [barn] sigma_inc=0.0328 [barn] reflections=Al.laz\n",
      "Table from file 'Al.laz' (block 1) is 26 x 18 (x=1:8), constant step. interpolation: linear\n",
      "  '# TITLE *Aluminum-Al-[FM3-M] Miller, H.P.jr.;DuMond, J.W.M.[1942] at 298 K; ...'\n",
      "PowderN: Al_powder: Reading 26 rows from Al.laz\n",
      "PowderN: Al_powder: Read 26 reflections from file 'Al.laz'\n",
      "PowderN: Al_powder: Vc=66.4 [Angs] sigma_abs=0.924 [barn] sigma_inc=0.0328 [barn] reflections=Al.laz\n",
      "Table from file 'Al.laz' (block 1) is 26 x 18 (x=1:8), constant step. interpolation: linear\n",
      "  '# TITLE *Aluminum-Al-[FM3-M] Miller, H.P.jr.;DuMond, J.W.M.[1942] at 298 K; ...'\n",
      "PowderN: Al_powder: Reading 26 rows from Al.laz\n",
      "PowderN: Al_powder: Read 26 reflections from file 'Al.laz'\n",
      "PowderN: Al_powder: Vc=66.4 [Angs] sigma_abs=0.924 [barn] sigma_inc=0.0328 [barn] reflections=Al.laz\n",
      "Opening input file '/Applications/McStas-2.7.1.app/Contents/Resources/mcstas/2.7.1//data/C_diamond.lau' (Table_Read_Offset)\n",
      "Single_crystal: C_diamond.lau structure a=[3.567,0,0] b=[0,3.567,0] c=[0,0,3.567] V0=45.3847\n",
      "Single_crystal: C_diamond.lau structure a=[3.567,0,0] b=[0,3.567,0] c=[0,0,3.567] V0=45.3847\n",
      "Single_crystal_process: diamond_crystal: Read 82 reflections from file 'C_diamond.lau'\n",
      "Single_crystal: diamond_crystal: Vc=45.3847 [Angs] sigma_abs=0.028 [barn] sigma_inc=0.008 [barn] reflections=C_diamond.lau\n",
      "Single_crystal: C_diamond.lau structure a=[3.567,0,0] b=[0,3.567,0] c=[0,0,3.567] V0=45.3847\n",
      "Single_crystal: C_diamond.lau structure a=[3.567,0,0] b=[0,3.567,0] c=[0,0,3.567] V0=45.3847\n",
      "Single_crystal_process: diamond_crystal: Read 82 reflections from file 'C_diamond.lau'\n",
      "Single_crystal: diamond_crystal: Vc=45.3847 [Angs] sigma_abs=0.028 [barn] sigma_inc=0.008 [barn] reflections=C_diamond.lau\n",
      "Single_crystal: C_diamond.lau structure a=[3.567,0,0] b=[0,3.567,0] c=[0,0,3.567] V0=45.3847\n",
      "Single_crystal_process: diamond_crystal: Read 82 reflections from file 'C_diamond.lau'\n",
      "Single_crystal: diamond_crystal: Vc=45.3847 [Angs] sigma_abs=0.028 [barn] sigma_inc=0.008 [barn] reflections=C_diamond.lau\n",
      "Single_crystal: C_diamond.lau structure a=[3.567,0,0] b=[0,3.567,0] c=[0,0,3.567] V0=45.3847\n",
      "Single_crystal_process: diamond_crystal: Read 82 reflections from file 'C_diamond.lau'\n",
      "Single_crystal: diamond_crystal: Vc=45.3847 [Angs] sigma_abs=0.028 [barn] sigma_inc=0.008 [barn] reflections=C_diamond.lau\n",
      "Single_crystal_process: diamond_crystal: Read 82 reflections from file 'C_diamond.lau'\n",
      "Single_crystal: diamond_crystal: Vc=45.3847 [Angs] sigma_abs=0.028 [barn] sigma_inc=0.008 [barn] reflections=C_diamond.lau\n",
      "Single_crystal_process: diamond_crystal: Read 82 reflections from file 'C_diamond.lau'\n",
      "Single_crystal: diamond_crystal: Vc=45.3847 [Angs] sigma_abs=0.028 [barn] sigma_inc=0.008 [barn] reflections=C_diamond.lau\n",
      "Allocating 3D arrays \n",
      "Allocating 3D arrays \n",
      "Allocating 3D arrays \n",
      "Allocating 3D arrays \n",
      "Allocating 3D arrays \n",
      "Allocating 3D arrays \n",
      "---------------------------------------------------------------------\n",
      "global_process_list.num_elements: 4\n",
      "name of process [0]: Al_incoherent \n",
      "component index [0]: 1 \n",
      "name of process [1]: Al_powder \n",
      "component index [1]: 2 \n",
      "name of process [2]: diamond_incoherent \n",
      "component index [2]: 4 \n",
      "name of process [3]: diamond_crystal \n",
      "component index [3]: 5 \n",
      "---------------------------------------------------------------------\n",
      "global_material_list.num_elements: 2\n",
      "name of material    [0]: Al \n",
      "component index     [0]: 3 \n",
      "my_absoprtion       [0]: 1.391570 \n",
      "number of processes [0]: 2 \n",
      "name of material    [1]: diamond \n",
      "component index     [1]: 6 \n",
      "my_absoprtion       [1]: 0.061688 \n",
      "number of processes [1]: 2 \n",
      "---------------------------------------------------------------------\n",
      "global_geometry_list.num_elements: 2\n",
      "\n",
      "name of geometry    [0]: sphere \n",
      "component index     [0]: 7 \n",
      "Volume.name         [0]: sphere \n",
      "Volume.p_physics.is_vacuum           [0]: 0 \n",
      "Volume.p_physics.my_absorption       [0]: 0.061688 \n",
      "Volume.p_physics.number of processes [0]: 2 \n",
      "Volume.geometry.shape                [0]: sphere \n",
      "Volume.geometry.center.x             [0]: 0.000000 \n",
      "Volume.geometry.center.y             [0]: 0.000000 \n",
      "Volume.geometry.center.z             [0]: 1.000000 \n",
      "Volume.geometry.rotation_matrix[0]           [0]: [1.000000 0.000000 0.000000] \n",
      "Volume.geometry.rotation_matrix[1]           [0]: [0.000000 1.000000 0.000000] \n",
      "Volume.geometry.rotation_matrix[2]           [0]: [0.000000 0.000000 1.000000] \n",
      "Volume.geometry.focus_data_array.elements[0].Aim             [0]: [0.000000 0.000000 1.000000] \n",
      "\n",
      "name of geometry    [1]: shell \n",
      "component index     [1]: 8 \n",
      "Volume.name         [1]: shell \n",
      "Volume.p_physics.is_vacuum           [1]: 0 \n",
      "Volume.p_physics.my_absorption       [1]: 1.391570 \n",
      "Volume.p_physics.number of processes [1]: 2 \n",
      "Volume.geometry.shape                [1]: cylinder \n",
      "Volume.geometry.center.x             [1]: 0.000000 \n",
      "Volume.geometry.center.y             [1]: 0.000000 \n",
      "Volume.geometry.center.z             [1]: 1.000000 \n",
      "Volume.geometry.rotation_matrix[0]           [1]: [1.000000 0.000000 0.000000] \n",
      "Volume.geometry.rotation_matrix[1]           [1]: [0.000000 1.000000 0.000000] \n",
      "Volume.geometry.rotation_matrix[2]           [1]: [0.000000 0.000000 1.000000] \n",
      "Volume.geometry.geometry_parameters.cyl_radius [1]: 0.050000 \n",
      "Volume.geometry.geometry_parameters.height [1]: 0.120000 \n",
      "Volume.geometry.focus_data_array.elements[0].Aim             [1]: [0.000000 0.000000 1.000000] \n",
      "\n",
      "name of geometry    [2]: shell_vacuum \n",
      "component index     [2]: 9 \n",
      "Volume.name         [2]: shell_vacuum \n",
      "Volume.p_physics.is_vacuum           [2]: 1 \n",
      "Volume.p_physics.my_absorption       [2]: 0.000000 \n",
      "Volume.p_physics.number of processes [2]: 0 \n",
      "Volume.geometry.shape                [2]: cylinder \n",
      "Volume.geometry.center.x             [2]: 0.000000 \n",
      "Volume.geometry.center.y             [2]: 0.000000 \n",
      "Volume.geometry.center.z             [2]: 1.000000 \n",
      "Volume.geometry.rotation_matrix[0]           [2]: [1.000000 0.000000 0.000000] \n",
      "Volume.geometry.rotation_matrix[1]           [2]: [0.000000 1.000000 0.000000] \n",
      "Volume.geometry.rotation_matrix[2]           [2]: [0.000000 0.000000 1.000000] \n",
      "Volume.geometry.geometry_parameters.cyl_radius [2]: 0.040000 \n",
      "Volume.geometry.geometry_parameters.height [2]: 0.110000 \n",
      "Volume.geometry.focus_data_array.elements[0].Aim             [2]: [0.000000 0.000000 1.000000] \n",
      "---------------------------------------------------------------------\n",
      "number_of_volumes = 4\n",
      "number_of_masks = 0\n",
      "number_of_masked_volumes = 0\n",
      "\n",
      " ---- Overview of the lists generated for each volume ---- \n",
      "List overview for surrounding vacuum\n",
      "LIST: Children for Volume                  0 = [1,2,3]\n",
      "LIST: Direct_children for Volume           0 = [2]\n",
      "LIST: Intersect_check_list for Volume      0 = [2]\n",
      "LIST: Mask_intersect_list for Volume       0 = []\n",
      "LIST: Destinations_list for Volume         0 = []\n",
      "LIST: Reduced_destinations_list for Volume 0 = []\n",
      "LIST: Next_volume_list for Volume          0 = [2]\n",
      "LIST: mask_list for Volume                 0 = []\n",
      "LIST: masked_by_list for Volume            0 = []\n",
      "LIST: masked_by_mask_index_list for Volume 0 = []\n",
      "      mask_mode for Volume                 0 = 0\n",
      "\n",
      "List overview for sphere with sphere shape made of diamond\n",
      "LIST: Children for Volume                  1 = []\n",
      "LIST: Direct_children for Volume           1 = []\n",
      "LIST: Intersect_check_list for Volume      1 = []\n",
      "LIST: Mask_intersect_list for Volume       1 = []\n",
      "LIST: Destinations_list for Volume         1 = [3]\n",
      "LIST: Reduced_destinations_list for Volume 1 = [3]\n",
      "LIST: Next_volume_list for Volume          1 = [3]\n",
      "      Is_vacuum for Volume                 1 = 0\n",
      "      is_mask_volume for Volume            1 = 0\n",
      "      is_masked_volume for Volume          1 = 0\n",
      "      is_exit_volume for Volume            1 = 0\n",
      "LIST: mask_list for Volume                 1 = []\n",
      "LIST: masked_by_list for Volume            1 = []\n",
      "LIST: masked_by_mask_index_list for Volume 1 = []\n",
      "      mask_mode for Volume                 1 = 0\n",
      "\n",
      "List overview for shell with cylinder shape made of Al\n",
      "LIST: Children for Volume                  2 = [1,3]\n",
      "LIST: Direct_children for Volume           2 = [3]\n",
      "LIST: Intersect_check_list for Volume      2 = [3]\n",
      "LIST: Mask_intersect_list for Volume       2 = []\n",
      "LIST: Destinations_list for Volume         2 = [0]\n",
      "LIST: Reduced_destinations_list for Volume 2 = []\n",
      "LIST: Next_volume_list for Volume          2 = [0,3]\n",
      "      Is_vacuum for Volume                 2 = 0\n",
      "      is_mask_volume for Volume            2 = 0\n",
      "      is_masked_volume for Volume          2 = 0\n",
      "      is_exit_volume for Volume            2 = 0\n",
      "LIST: mask_list for Volume                 2 = []\n",
      "LIST: masked_by_list for Volume            2 = []\n",
      "LIST: masked_by_mask_index_list for Volume 2 = []\n",
      "      mask_mode for Volume                 2 = 0\n",
      "\n",
      "List overview for shell_vacuum with cylinder shape made of Vacuum\n",
      "LIST: Children for Volume                  3 = [1]\n",
      "LIST: Direct_children for Volume           3 = [1]\n",
      "LIST: Intersect_check_list for Volume      3 = [1]\n",
      "LIST: Mask_intersect_list for Volume       3 = []\n",
      "LIST: Destinations_list for Volume         3 = [2]\n",
      "LIST: Reduced_destinations_list for Volume 3 = [2]\n",
      "LIST: Next_volume_list for Volume          3 = [2,1]\n",
      "      Is_vacuum for Volume                 3 = 1\n",
      "      is_mask_volume for Volume            3 = 0\n",
      "      is_masked_volume for Volume          3 = 0\n",
      "      is_exit_volume for Volume            3 = 0\n",
      "LIST: mask_list for Volume                 3 = []\n",
      "LIST: masked_by_list for Volume            3 = []\n",
      "LIST: masked_by_mask_index_list for Volume 3 = []\n",
      "      mask_mode for Volume                 3 = 0\n",
      "\n",
      "Union_master component master initialized sucessfully\n",
      "Detector: logger_time_all_I=1.13348e+06 logger_time_all_ERR=117.52 logger_time_all_N=1.33747e+08 \"scattering_time.dat\"\n",
      "Detector: logger_time_shell_I=72807.7 logger_time_shell_ERR=17.5972 logger_time_shell_N=2.43113e+07 \"scattering_time_shell.dat\"\n",
      "Detector: logger_space_zx_I=1.13348e+06 logger_space_zx_ERR=117.52 logger_space_zx_N=1.33747e+08 \"logger_zx.dat\"\n",
      "Detector: logger_space_zx_1_I=328658 logger_space_zx_1_ERR=53.3993 logger_space_zx_1_N=4.30513e+07 \"logger_zx_1.dat\"\n",
      "Detector: logger_space_zx_2_I=184560 logger_space_zx_2_ERR=42.1744 logger_space_zx_2_N=2.36815e+07 \"logger_zx_2.dat\"\n",
      "Detector: logger_space_zy_I=1.13348e+06 logger_space_zy_ERR=117.52 logger_space_zy_N=1.33747e+08 \"logger_zy.dat\"\n",
      "Detector: logger_space_xy_I=1.13348e+06 logger_space_xy_ERR=117.52 logger_space_xy_N=1.33747e+08 \"logger_xy.dat\"\n",
      "Detector: logger_2DQ_I=1.13348e+06 logger_2DQ_ERR=117.52 logger_2DQ_N=1.33747e+08 \"logger_2DQ.dat\"\n",
      "Detector: logger_2D_space_time_I=0 logger_2D_space_time_ERR=0 logger_2D_space_time_N=0 \"logger_zy_time.dat_0\"\n",
      "Detector: logger_2D_space_time_I=0 logger_2D_space_time_ERR=0 logger_2D_space_time_N=0 \"logger_zy_time.dat_1\"\n",
      "Detector: logger_2D_space_time_I=0 logger_2D_space_time_ERR=0 logger_2D_space_time_N=0 \"logger_zy_time.dat_2\"\n",
      "Detector: logger_2D_space_time_I=1396.97 logger_2D_space_time_ERR=2.10568 logger_2D_space_time_N=498942 \"logger_zy_time.dat_3\"\n",
      "Detector: logger_2D_space_time_I=7332.83 logger_2D_space_time_ERR=4.81913 logger_2D_space_time_N=2.63354e+06 \"logger_zy_time.dat_4\"\n",
      "Detector: logger_2D_space_time_I=9405.97 logger_2D_space_time_ERR=5.46153 logger_2D_space_time_N=3.46947e+06 \"logger_zy_time.dat_5\"\n",
      "Detector: logger_2D_space_time_I=9413.41 logger_2D_space_time_ERR=5.48782 logger_2D_space_time_N=3.47954e+06 \"logger_zy_time.dat_6\"\n",
      "Detector: logger_2D_space_time_I=4626.26 logger_2D_space_time_ERR=3.82321 logger_2D_space_time_N=1.81705e+06 \"logger_zy_time.dat_7\"\n",
      "Detector: logger_2D_space_time_I=513.715 logger_2D_space_time_ERR=1.24571 logger_2D_space_time_N=297596 \"logger_zy_time.dat_8\"\n",
      "Detector: logger_2D_space_time_I=30521.3 logger_2D_space_time_ERR=16.842 logger_2D_space_time_N=3.37101e+06 \"logger_zy_time.dat_9\"\n",
      "Detector: logger_2D_space_time_I=217327 logger_2D_space_time_ERR=46.3862 logger_2D_space_time_N=2.29689e+07 \"logger_zy_time.dat_10\"\n",
      "Detector: logger_2D_space_time_I=318666 logger_2D_space_time_ERR=60.236 logger_2D_space_time_N=3.24068e+07 \"logger_zy_time.dat_11\"\n",
      "Detector: logger_2D_space_time_I=238755 logger_2D_space_time_ERR=56.4928 logger_2D_space_time_N=2.37536e+07 \"logger_zy_time.dat_12\"\n",
      "Detector: logger_2D_space_time_I=157637 logger_2D_space_time_ERR=49.9987 logger_2D_space_time_N=1.58085e+07 \"logger_zy_time.dat_13\"\n",
      "Detector: logger_2D_space_time_I=79058.7 logger_2D_space_time_ERR=37.1381 logger_2D_space_time_N=8.64555e+06 \"logger_zy_time.dat_14\"\n",
      "Detector: logger_2D_space_time_I=17286.6 logger_2D_space_time_ERR=18.2367 logger_2D_space_time_N=2.61441e+06 \"logger_zy_time.dat_15\"\n",
      "Detector: logger_2D_space_time_I=4347.84 logger_2D_space_time_ERR=6.55386 logger_2D_space_time_N=1.25343e+06 \"logger_zy_time.dat_16\"\n",
      "Detector: logger_2D_space_time_I=2289.84 logger_2D_space_time_ERR=3.19749 logger_2D_space_time_N=763469 \"logger_zy_time.dat_17\"\n",
      "Detector: logger_2D_space_time_I=4577.17 logger_2D_space_time_ERR=4.75865 logger_2D_space_time_N=1.17099e+06 \"logger_zy_time.dat_18\"\n",
      "Detector: logger_2D_space_time_I=8989.85 logger_2D_space_time_ERR=6.74311 logger_2D_space_time_N=2.37775e+06 \"logger_zy_time.dat_19\"\n",
      "Detector: logger_2D_space_time_I=8467.42 logger_2D_space_time_ERR=6.75425 logger_2D_space_time_N=2.32055e+06 \"logger_zy_time.dat_20\"\n",
      "Detector: logger_2D_space_time_I=5968.81 logger_2D_space_time_ERR=5.9212 logger_2D_space_time_N=1.6006e+06 \"logger_zy_time.dat_21\"\n",
      "Detector: logger_2D_space_time_I=3489.23 logger_2D_space_time_ERR=4.62181 logger_2D_space_time_N=985893 \"logger_zy_time.dat_22\"\n",
      "Detector: logger_2D_space_time_I=1234.44 logger_2D_space_time_ERR=2.73547 logger_2D_space_time_N=422001 \"logger_zy_time.dat_23\"\n",
      "Detector: logger_2D_space_time_I=401.429 logger_2D_space_time_ERR=1.46235 logger_2D_space_time_N=180988 \"logger_zy_time.dat_24\"\n",
      "Detector: logger_2D_space_time_I=192.453 logger_2D_space_time_ERR=0.948915 logger_2D_space_time_N=100523 \"logger_zy_time.dat_25\"\n",
      "Detector: logger_2D_space_time_I=131.144 logger_2D_space_time_ERR=0.76182 logger_2D_space_time_N=68897 \"logger_zy_time.dat_26\"\n",
      "Detector: logger_2D_space_time_I=110.476 logger_2D_space_time_ERR=0.705911 logger_2D_space_time_N=57958 \"logger_zy_time.dat_27\"\n",
      "Detector: logger_2D_space_time_I=103.772 logger_2D_space_time_ERR=0.633138 logger_2D_space_time_N=58785 \"logger_zy_time.dat_28\"\n",
      "Detector: logger_2D_space_time_I=109.841 logger_2D_space_time_ERR=0.632865 logger_2D_space_time_N=62902 \"logger_zy_time.dat_29\"\n",
      "Detector: logger_2D_space_time_I=125.32 logger_2D_space_time_ERR=0.691668 logger_2D_space_time_N=63781 \"logger_zy_time.dat_30\"\n",
      "Detector: logger_2D_space_time_I=149.966 logger_2D_space_time_ERR=0.759553 logger_2D_space_time_N=69947 \"logger_zy_time.dat_31\"\n",
      "Detector: logger_2D_space_time_I=166.744 logger_2D_space_time_ERR=0.806232 logger_2D_space_time_N=75864 \"logger_zy_time.dat_32\"\n",
      "Detector: logger_2D_space_time_I=158.813 logger_2D_space_time_ERR=0.801608 logger_2D_space_time_N=71997 \"logger_zy_time.dat_33\"\n",
      "Detector: logger_2D_space_time_I=136.699 logger_2D_space_time_ERR=0.82006 logger_2D_space_time_N=61686 \"logger_zy_time.dat_34\"\n",
      "Detector: logger_2D_space_time_I=109.717 logger_2D_space_time_ERR=0.694806 logger_2D_space_time_N=50519 \"logger_zy_time.dat_35\"\n",
      "Detector: logger_2D_space_time_I=85.7865 logger_2D_space_time_ERR=0.616735 logger_2D_space_time_N=41199 \"logger_zy_time.dat_36\"\n",
      "Detector: logger_2D_space_time_I=59.8514 logger_2D_space_time_ERR=0.502739 logger_2D_space_time_N=31157 \"logger_zy_time.dat_37\"\n",
      "Detector: logger_2D_space_time_I=39.9849 logger_2D_space_time_ERR=0.41778 logger_2D_space_time_N=22307 \"logger_zy_time.dat_38\"\n",
      "Detector: logger_2D_space_time_I=25.0605 logger_2D_space_time_ERR=0.330138 logger_2D_space_time_N=15026 \"logger_zy_time.dat_39\"\n",
      "Detector: logger_2D_space_time_I=14.842 logger_2D_space_time_ERR=0.253575 logger_2D_space_time_N=9755 \"logger_zy_time.dat_40\"\n",
      "Detector: logger_2D_space_time_I=10.1186 logger_2D_space_time_ERR=0.222613 logger_2D_space_time_N=7129 \"logger_zy_time.dat_41\"\n",
      "Detector: logger_2D_space_time_I=7.00584 logger_2D_space_time_ERR=0.165062 logger_2D_space_time_N=5509 \"logger_zy_time.dat_42\"\n",
      "Detector: logger_2D_space_time_I=6.28682 logger_2D_space_time_ERR=0.150909 logger_2D_space_time_N=5022 \"logger_zy_time.dat_43\"\n",
      "Detector: logger_2D_space_time_I=5.73419 logger_2D_space_time_ERR=0.159532 logger_2D_space_time_N=4600 \"logger_zy_time.dat_44\"\n",
      "Detector: logger_2D_space_time_I=5.02083 logger_2D_space_time_ERR=0.137652 logger_2D_space_time_N=4075 \"logger_zy_time.dat_45\"\n",
      "Detector: logger_2D_space_time_I=4.1309 logger_2D_space_time_ERR=0.128527 logger_2D_space_time_N=3467 \"logger_zy_time.dat_46\"\n",
      "Detector: logger_2D_space_time_I=3.33971 logger_2D_space_time_ERR=0.0999381 logger_2D_space_time_N=2938 \"logger_zy_time.dat_47\"\n",
      "Detector: logger_2D_space_time_I=2.68602 logger_2D_space_time_ERR=0.0901288 logger_2D_space_time_N=2331 \"logger_zy_time.dat_48\"\n",
      "Detector: logger_2D_space_time_I=2.05593 logger_2D_space_time_ERR=0.0814775 logger_2D_space_time_N=1811 \"logger_zy_time.dat_49\"\n",
      "Detector: logger_2D_space_time_I=1.63064 logger_2D_space_time_ERR=0.0747064 logger_2D_space_time_N=1427 \"logger_zy_time.dat_50\"\n",
      "Detector: logger_2D_space_time_I=1.05747 logger_2D_space_time_ERR=0.0530159 logger_2D_space_time_N=1082 \"logger_zy_time.dat_51\"\n",
      "Detector: logger_2D_space_time_I=0.760397 logger_2D_space_time_ERR=0.0439148 logger_2D_space_time_N=895 \"logger_zy_time.dat_52\"\n",
      "Detector: logger_2D_space_time_I=0.65174 logger_2D_space_time_ERR=0.0438421 logger_2D_space_time_N=745 \"logger_zy_time.dat_53\"\n",
      "Detector: logger_2D_space_time_I=0.567475 logger_2D_space_time_ERR=0.0407048 logger_2D_space_time_N=619 \"logger_zy_time.dat_54\"\n",
      "Detector: logger_2D_space_time_I=0.421823 logger_2D_space_time_ERR=0.0334712 logger_2D_space_time_N=526 \"logger_zy_time.dat_55\"\n",
      "Detector: logger_2D_space_time_I=0.277041 logger_2D_space_time_ERR=0.0228004 logger_2D_space_time_N=423 \"logger_zy_time.dat_56\"\n",
      "Detector: logger_2D_space_time_I=0.257427 logger_2D_space_time_ERR=0.0325865 logger_2D_space_time_N=345 \"logger_zy_time.dat_57\"\n",
      "Detector: logger_2D_space_time_I=0.188562 logger_2D_space_time_ERR=0.0269994 logger_2D_space_time_N=250 \"logger_zy_time.dat_58\"\n",
      "Detector: logger_2D_space_time_I=0.126855 logger_2D_space_time_ERR=0.0175091 logger_2D_space_time_N=196 \"logger_zy_time.dat_59\"\n",
      "Detector: logger_2D_space_time_I=0.106855 logger_2D_space_time_ERR=0.0198255 logger_2D_space_time_N=172 \"logger_zy_time.dat_60\"\n",
      "Detector: logger_2D_space_time_I=0.0981368 logger_2D_space_time_ERR=0.0176507 logger_2D_space_time_N=131 \"logger_zy_time.dat_61\"\n",
      "Detector: logger_2D_space_time_I=0.0457825 logger_2D_space_time_ERR=0.00932979 logger_2D_space_time_N=88 \"logger_zy_time.dat_62\"\n",
      "Detector: logger_2D_space_time_I=0.0440189 logger_2D_space_time_ERR=0.00957244 logger_2D_space_time_N=73 \"logger_zy_time.dat_63\"\n",
      "Detector: logger_2D_space_time_I=0.0434244 logger_2D_space_time_ERR=0.0119517 logger_2D_space_time_N=60 \"logger_zy_time.dat_64\"\n",
      "Detector: logger_2D_space_time_I=0.0392698 logger_2D_space_time_ERR=0.00840649 logger_2D_space_time_N=71 \"logger_zy_time.dat_65\"\n",
      "Detector: logger_2D_space_time_I=0.0151627 logger_2D_space_time_ERR=0.00417789 logger_2D_space_time_N=44 \"logger_zy_time.dat_66\"\n",
      "Detector: logger_2D_space_time_I=0.0194775 logger_2D_space_time_ERR=0.00588832 logger_2D_space_time_N=37 \"logger_zy_time.dat_67\"\n",
      "Detector: logger_2D_space_time_I=0.00998917 logger_2D_space_time_ERR=0.00451087 logger_2D_space_time_N=24 \"logger_zy_time.dat_68\"\n",
      "Detector: logger_2D_space_time_I=0.0156488 logger_2D_space_time_ERR=0.0044227 logger_2D_space_time_N=33 \"logger_zy_time.dat_69\"\n",
      "Detector: L_monitor_I=116269 L_monitor_ERR=38.9383 L_monitor_N=1.19899e+07 \"l_mon.dat\"\n",
      "Detector: banana_detector_I=352070 banana_detector_ERR=65.1998 banana_detector_N=3.89066e+07 \"banana_tof.dat\"\n",
      "loading system configuration\n",
      "\n"
     ]
    }
   ],
   "source": [
    "logger_zy = instrument.add_component(\"logger_2D_space_time\", \"Union_logger_2D_space_time\",\n",
    "                                     before=master, RELATIVE=sphere)\n",
    "logger_zy.set_parameters(D_direction_1='\"z\"', D1_min=-0.07, D1_max=0.07, n1=300,\n",
    "                         D_direction_2='\"y\"', D2_min=-0.07, D2_max=0.07, n2=300,\n",
    "                         time_bins=70, time_min=0.00055, time_max=0.00085,\n",
    "                         filename='\"logger_zy_time.dat\"')\n",
    "\n",
    "instrument.set_parameters(wavelength=2.38, wavelength_half_width=0.03)\n",
    "instrument.settings(ncount=5E7, mpi=6)\n",
    "data = instrument.backengine()"
   ]
  },
  {
   "cell_type": "code",
   "execution_count": 16,
   "id": "specified-independence",
   "metadata": {
    "slideshow": {
     "slide_type": "slide"
    }
   },
   "outputs": [
    {
     "data": {
      "application/vnd.jupyter.widget-view+json": {
       "model_id": "0637baabaa2f4badaa1111857bf9c072",
       "version_major": 2,
       "version_minor": 0
      },
      "text/plain": [
       "Canvas(toolbar=Toolbar(toolitems=[('Home', 'Reset original view', 'home', 'home'), ('Back', 'Back to previous …"
      ]
     },
     "metadata": {},
     "output_type": "display_data"
    },
    {
     "name": "stderr",
     "output_type": "stream",
     "text": [
      "2022-07-03 21:40:28,979 WARNING:MovieWriter imagemagick unavailable; using Pillow instead.\n"
     ]
    },
    {
     "name": "stdout",
     "output_type": "stream",
     "text": [
      "Plotting data with name logger_2D_space_time\n",
      "Saving animation with filename : \"animation_demo.gif\"\n"
     ]
    }
   ],
   "source": [
    "ani_data = ms.name_search(\"logger_2D_space_time\", data)\n",
    "    \n",
    "ms.make_animation(ani_data, filename=\"animation_demo\", fps=3,\n",
    "                  log=True, colormap=\"hot\", orders_of_mag=6, figsize=(8, 5))"
   ]
  },
  {
   "cell_type": "markdown",
   "id": "geographic-plastic",
   "metadata": {
    "slideshow": {
     "slide_type": "slide"
    }
   },
   "source": [
    "### Cryostat simulation\n",
    "More detailed simulation with higher ncount performed on cluster\n",
    "<table><tr>\n",
    "<td> <img src=\"figures/cryostat_geometry.png\" alt=\"Cryostat sketch and data\" style=\"width: 700px;\"/> </td>\n",
    "<td> <img src=\"figures/output.gif\" alt=\"Cryostat animation\" style=\"width: 1000px;\"/> </td>\n",
    "</tr></table>"
   ]
  },
  {
   "cell_type": "markdown",
   "id": "bound-certificate",
   "metadata": {
    "slideshow": {
     "slide_type": "slide"
    }
   },
   "source": [
    "### Pressure cell with 2 diamonds and powder sample\n",
    "Tof pulse around diamond bragg peak\n",
    "![alt](figures/anvil_bragg.gif)"
   ]
  },
  {
   "cell_type": "markdown",
   "id": "enclosed-coupon",
   "metadata": {
    "slideshow": {
     "slide_type": "slide"
    }
   },
   "source": [
    "### Simulated detector signal when rotating one of the diamonds\n",
    "![alt](figures/full_rotation_movie_2.gif)"
   ]
  },
  {
   "cell_type": "markdown",
   "id": "purple-retro",
   "metadata": {
    "slideshow": {
     "slide_type": "slide"
    }
   },
   "source": [
    "## Absorption logger components\n",
    "Like logger components, but record absorption instead.\n",
    "\n",
    "| Abs_logger component                    | Dimensions                                |\n",
    "| :---                                    |    :----                                  |\n",
    "| Union_abs_logger_1D_space               | 1D space                                  |\n",
    "| Union_abs_logger_1D_space_event         | 2D space in event format                  |\n",
    "| Union_abs_logger_1D_space_tof           | 1D space and time                         |\n",
    "| Union_abs_logger_1D_space_tof_to_lambda | 1D space and time converted to wavelength |\n",
    "| Union_abs_logger_2D_space               | 2D space                                  |\n",
    "| Union_abs_logger_event                  | Events  (position, velocity, weight)      |"
   ]
  },
  {
   "cell_type": "markdown",
   "id": "million-object",
   "metadata": {
    "slideshow": {
     "slide_type": "slide"
    }
   },
   "source": [
    "### Simple model of He3 detector tube\n",
    "<table><tr>\n",
    "<td> <img src=\"figures/power_point_figures/Slide3.png\" alt=\"Detector sketch\" style=\"width: 500px;\"/> </td>\n",
    "<td> <img src=\"figures/output_absorption_point.gif\" alt=\"Animation\" style=\"width: 900px;\"/> </td>\n",
    "</tr></table>"
   ]
  },
  {
   "cell_type": "markdown",
   "id": "explicit-liquid",
   "metadata": {
    "slideshow": {
     "slide_type": "slide"
    }
   },
   "source": [
    "## Conditional components\n",
    "Conditional components places a condition on each ray recorded by a logger. The condition applies the the final state of the ray after the Union system, the logger only records the events from that ray if the condition is true.\n",
    "\n",
    "| Conditional component                   | Condition                                          |\n",
    "| :---                                    |    :----                                           |\n",
    "| Union_conditional_standard              | time, energy and scattering order limits           |\n",
    "| Union_conditional_PSD                   | requires hitting a rectangular area and time limit |"
   ]
  },
  {
   "cell_type": "markdown",
   "id": "spread-dressing",
   "metadata": {
    "slideshow": {
     "slide_type": "slide"
    }
   },
   "source": [
    "### Adding monitors the conditional component will modify"
   ]
  },
  {
   "cell_type": "code",
   "execution_count": 17,
   "id": "received-commercial",
   "metadata": {},
   "outputs": [],
   "source": [
    "logger_zx = instrument.add_component(\"logger_space_zx_con\", \"Union_logger_2D_space\",\n",
    "                                     before=master, RELATIVE=sphere)\n",
    "logger_zx.set_parameters(D_direction_1='\"z\"', D1_min=-0.07, D1_max=0.07, n1=300,\n",
    "                         D_direction_2='\"x\"', D2_min=-0.07, D2_max=0.07, n2=300,\n",
    "                         filename='\"logger_zx_con.dat\"')\n",
    "\n",
    "logger_2DQ = instrument.add_component(\"logger_2DQ_con\", \"Union_logger_2DQ\", before=master)\n",
    "logger_2DQ.set_parameters(Q_direction_1 = '\"z\"', Q1_min = -8.0, Q1_max = 8.0, n1 = 500,\n",
    "                         Q_direction_2 = '\"x\"', Q2_min = -8.0, Q2_max = 8.0, n2 = 500,\n",
    "                         filename = '\"logger_2DQ_con.dat\"')"
   ]
  },
  {
   "cell_type": "markdown",
   "id": "reserved-integration",
   "metadata": {
    "slideshow": {
     "slide_type": "slide"
    }
   },
   "source": [
    "### Adding conditional component"
   ]
  },
  {
   "cell_type": "code",
   "execution_count": 18,
   "id": "joint-glory",
   "metadata": {},
   "outputs": [],
   "source": [
    "# Set up instrument parameters describing what spot to investigate\n",
    "instrument.add_parameter(\"tag_angle\", value=60)\n",
    "instrument.add_parameter(\"tag_time\", value=0.00072)\n",
    "instrument.add_parameter(\"tag_interval\", value=0.00005)\n",
    "\n",
    "# Set up an arm pointing to the relevant spot\n",
    "spot_dir = instrument.add_component(\"spot_dir\", \"Arm\", RELATIVE=sphere, before=master)\n",
    "spot_dir.set_ROTATED([0, \"tag_angle\", 0], RELATIVE=sphere)\n",
    "\n",
    "# Set up a conditional component targeting all our loggers\n",
    "PSD_conditional = instrument.add_component(\"space_all_PSD_conditional\", \"Union_conditional_PSD\", before=master)\n",
    "PSD_conditional.set_AT([0, 0, 0.06], RELATIVE=spot_dir) \n",
    "PSD_conditional.set_parameters(target_loggers='\"logger_space_zx_con,logger_2DQ_con\"',\n",
    "                               xwidth=0.02, yheight=0.2,\n",
    "                               time_min=\"tag_time - 0.5*tag_interval\",\n",
    "                               time_max=\"tag_time + 0.5*tag_interval\")\n",
    "\n",
    "# Extract flag from master\n",
    "instrument.add_declare_var(\"int\", \"flag1\")\n",
    "logger_zx.logger_conditional_extend_index = 1\n",
    "master.append_EXTEND(\"flag1 = logger_conditional_extend_array[1];\")\n",
    "\n",
    "# Copy of our banana detector, but with WHEN condition to verify we are investigating the right peak\n",
    "banana_detector = instrument.add_component(\"banana_detector_limited\", \"Monitor_nD\")\n",
    "banana_detector.set_RELATIVE(sphere)\n",
    "banana_detector.set_parameters(xwidth = 0.12, yheight = 0.2,\n",
    "                               filename='\"banana_tof_limited.dat\"', restore_neutron=1,\n",
    "                               options='\"banana, theta limits=[-180,180] bins=361, t limits=[0.0004 0.00085] bins=500\"')\n",
    "banana_detector.set_WHEN(\"flag1 > 0\")"
   ]
  },
  {
   "cell_type": "markdown",
   "id": "basic-stewart",
   "metadata": {
    "slideshow": {
     "slide_type": "slide"
    }
   },
   "source": [
    "### Running the simulation"
   ]
  },
  {
   "cell_type": "code",
   "execution_count": 19,
   "id": "elementary-petersburg",
   "metadata": {},
   "outputs": [
    {
     "data": {
      "application/vnd.jupyter.widget-view+json": {
       "model_id": "07efa942406541c1ac154f99addae453",
       "version_major": 2,
       "version_minor": 0
      },
      "text/plain": [
       "VBox(children=(VBox(children=(HBox(children=(Label(value='wavelength', layout=Layout(height='32px', width='15%…"
      ]
     },
     "metadata": {},
     "output_type": "display_data"
    }
   ],
   "source": [
    "logger_zy.time_bins = 5\n",
    "ms_widget.show(instrument)"
   ]
  },
  {
   "cell_type": "markdown",
   "id": "analyzed-amsterdam",
   "metadata": {
    "slideshow": {
     "slide_type": "slide"
    }
   },
   "source": [
    "# Union overview\n",
    "In total there are 8 classes of Union components that can be linked together in order to perform the simulation.\n",
    "\n",
    "| Component class         | Links to                       | Purpose                                    |\n",
    "| :---                    |    :----                       |    :----                                   |\n",
    "| Process components      |                                | Describe scattering process                |\n",
    "| Union_make_material     | List of process components     | Collect process and absorption to material |\n",
    "| Geometry components     | Material definition            | Place a geometry with selected material    |\n",
    "| Logger components       | Optionally geometry / process  | Record scattering in Union system          |\n",
    "| Abs_logger components   | Optionally geometry / process  | Record absorption in Union system          |\n",
    "| Conditional components  | Logger or Abs_logger           | Place final condition on recording         |\n",
    "| Union_master            | Geometries (automatic linking) | Simulation engine                          |\n",
    "| Union_init / Union_stop |                                | Needed in McStas 3.X at start / end        |\n",
    "\n"
   ]
  },
  {
   "cell_type": "markdown",
   "id": "adjacent-majority",
   "metadata": {
    "slideshow": {
     "slide_type": "slide"
    }
   },
   "source": [
    "## Conclusion\n",
    "The Union components is a powerful addition to McStas that allow complex simulations with simple tools. The advantages are:\n",
    "- Splits responsibility into geometry, physics and simulation engine\n",
    "- Modular physics description (expandable)\n",
    "- Allows overlapping geometry and hollow systems like cryostats\n",
    "- Full multiple scattering\n",
    "- Comprehensive logging tools\n",
    "- System for tracking interesting features (Conditional components)\n",
    "- Can be used to simulate detector systems\n",
    "\n",
    "Still to do:\n",
    "- Polarization not supported\n",
    "- Gravity not supported\n",
    "- Surface effects"
   ]
  },
  {
   "cell_type": "markdown",
   "id": "specific-allocation",
   "metadata": {
    "slideshow": {
     "slide_type": "slide"
    }
   },
   "source": [
    "## Quiz and exercise\n",
    "Now its time for you to do a quiz about the Union components and use them to build an instrument. The quiz is called Union_quiz and is available in the McStasScript-notebooks. If only the solution is available, a git pull will be needed from the McStasScript-notebooks folder."
   ]
  }
 ],
 "metadata": {
  "celltoolbar": "Slideshow",
  "kernelspec": {
   "display_name": "Python 3",
   "language": "python",
   "name": "python3"
  },
  "language_info": {
   "codemirror_mode": {
    "name": "ipython",
    "version": 3
   },
   "file_extension": ".py",
   "mimetype": "text/x-python",
   "name": "python",
   "nbconvert_exporter": "python",
   "pygments_lexer": "ipython3",
   "version": "3.8.8"
  }
 },
 "nbformat": 4,
 "nbformat_minor": 5
}
